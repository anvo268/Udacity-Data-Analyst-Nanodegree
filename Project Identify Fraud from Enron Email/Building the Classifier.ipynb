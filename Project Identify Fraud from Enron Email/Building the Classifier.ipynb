{
 "cells": [
  {
   "cell_type": "code",
   "execution_count": 1,
   "metadata": {
    "collapsed": false
   },
   "outputs": [],
   "source": [
    "from Functions import *"
   ]
  },
  {
   "cell_type": "code",
   "execution_count": 2,
   "metadata": {
    "collapsed": true
   },
   "outputs": [],
   "source": [
    "import warnings; warnings.simplefilter('ignore')"
   ]
  },
  {
   "cell_type": "code",
   "execution_count": 3,
   "metadata": {
    "collapsed": false
   },
   "outputs": [],
   "source": [
    "%load_ext autoreload\n",
    "%autoreload 2\n",
    "%matplotlib inline"
   ]
  },
  {
   "cell_type": "markdown",
   "metadata": {},
   "source": [
    "**Loading the Data**"
   ]
  },
  {
   "cell_type": "code",
   "execution_count": 5,
   "metadata": {
    "collapsed": false
   },
   "outputs": [],
   "source": [
    "data = load_data()\n",
    "# dropping my obvious outlier\n",
    "data = remove_outliers(data)"
   ]
  },
  {
   "cell_type": "markdown",
   "metadata": {},
   "source": [
    "### My Basic Preprocessing Pipeline"
   ]
  },
  {
   "cell_type": "markdown",
   "metadata": {},
   "source": [
    "There are a number of preprocessing steps I attempt with each model before adding the classifier. My basic pipeline is as follows: \n",
    "\n",
    "1. *Imputer*: Imputes values for observations with null values. My default strategy is 'median'. \n",
    "<br><br>\n",
    "2. *Resampling*: There are very few POIs relative to the total number of observations. Most classifiers struggle with highly imbalanced classes like this. I use an implementation of the SMOTE algorithm to artificially generate new POI observations in order to balance my dataset. \n",
    "<br><br>\n",
    "3. *Feature Selection*: In order to eliminate noise and maintain a parsimonious model, I want to keep only the most valuable features. I used Sklearn's SelectKBest with ANOVA F-scores as the scoring metric. It limits me to \"k\" features with highest F-scores (A metric for how well the feature separates my classes). \n",
    "<br><br>\n",
    "4. *Feature Scaling*: A number of my features are on wildly different scales which means that some algorithms will overweight certain features when determining the class. My default scaler standardizes all my features (set mean to 0 and std to 1) to account for this. \n",
    "<br><br>\n",
    "5. *Principal Component Analysis*: PCA does a number of things. First it can help reduce noise by finding combinations of features that explain the most variation in my data so I can use a smaller number of features when actually fitting the model. Second it projects all features onto orthogonal axis so I don't need to worry about issues of multicollinearity which can affect the performance of some models.  "
   ]
  },
  {
   "cell_type": "code",
   "execution_count": 5,
   "metadata": {
    "collapsed": false
   },
   "outputs": [
    {
     "name": "stdout",
     "output_type": "stream",
     "text": [
      "Step: imputer\n",
      "Implementation: Imputer(axis=0, copy=True, missing_values='NaN', strategy='median', verbose=0)\n",
      "=====================\n",
      "\n",
      "Step: resampling\n",
      "Implementation: SMOTE(k=None, k_neighbors=5, kind='regular', m=None, m_neighbors=10, n_jobs=1,\n",
      "   out_step=0.5, random_state=None, ratio='auto', svm_estimator=None)\n",
      "=====================\n",
      "\n",
      "Step: selection\n",
      "Implementation: SelectKBest(k=10, score_func=<function f_classif at 0x0000027AB6A5B488>)\n",
      "=====================\n",
      "\n",
      "Step: scaler\n",
      "Implementation: StandardScaler(copy=True, with_mean=True, with_std=True)\n",
      "=====================\n",
      "\n",
      "Step: pca\n",
      "Implementation: PCA(copy=True, iterated_power='auto', n_components=None, random_state=None,\n",
      "  svd_solver='auto', tol=0.0, whiten=False)\n",
      "=====================\n",
      "\n"
     ]
    }
   ],
   "source": [
    "for step, impl in base_pipeline:\n",
    "    print('Step:', step)\n",
    "    print('Implementation:', impl)\n",
    "    print('=====================\\n')"
   ]
  },
  {
   "cell_type": "markdown",
   "metadata": {},
   "source": [
    "### Pipeline Tuning\n",
    "\n",
    "Prior to tuning the hyperparameters, I use grid search cross validation to make sure I am using the optimal pipeline permuation for each model. I chose to keep these separate from the hyperparameter tuning to keep the number of permutations I had to test from getting out of control. The parameters I adjust to create each pipeline permuation are:\n",
    "\n",
    "1. *Feature Scaling*: I try each pipeline with and without feature scaling. \n",
    "<br><br>\n",
    "2. *Number of Features in Feature Selection*: I try a number of different values for k (The # of features to keep)\n",
    "<br><br>\n",
    "3. *PCA*: I try the pipeline with no PCA and PCA with a number of different components being kept. "
   ]
  },
  {
   "cell_type": "code",
   "execution_count": 6,
   "metadata": {
    "collapsed": false
   },
   "outputs": [
    {
     "name": "stdout",
     "output_type": "stream",
     "text": [
      "Parameter: selection__k\n",
      "Possible Values:\n",
      "[7, 10, 15]\n",
      "=====================\n",
      "\n",
      "Parameter: scaler\n",
      "Possible Values:\n",
      "[None, StandardScaler(copy=True, with_mean=True, with_std=True)]\n",
      "=====================\n",
      "\n",
      "Parameter: pca\n",
      "Possible Values:\n",
      "[None,\n",
      " PCA(copy=True, iterated_power='auto', n_components=2, random_state=None,\n",
      "  svd_solver='auto', tol=0.0, whiten=False),\n",
      " PCA(copy=True, iterated_power='auto', n_components=4, random_state=None,\n",
      "  svd_solver='auto', tol=0.0, whiten=False),\n",
      " PCA(copy=True, iterated_power='auto', n_components=6, random_state=None,\n",
      "  svd_solver='auto', tol=0.0, whiten=False)]\n",
      "=====================\n",
      "\n"
     ]
    }
   ],
   "source": [
    "for param, vals in base_param_grid.items():\n",
    "    print('Parameter:', param)\n",
    "    print('Possible Values:')\n",
    "    pprint(vals)\n",
    "    print('=====================\\n')"
   ]
  },
  {
   "cell_type": "code",
   "execution_count": 6,
   "metadata": {
    "collapsed": false
   },
   "outputs": [],
   "source": [
    "X, y = data[all_features], data.poi"
   ]
  },
  {
   "cell_type": "markdown",
   "metadata": {},
   "source": [
    "## Model Selection\n",
    "\n",
    "I tried a variety of different classifiers, using GridSearchCV to find the optimal pipeline for each one. Displayed below are the scores for the model, a confusion matrix, the optimal pipeline parameters, and information about which features were used. \n",
    "\n",
    "**Scores Explained:** I use several metrics to evaluate the model\n",
    "1. *Accuracy*: The proportion of correct classifications\n",
    "2. *Recall*: The proportion of POI's identified\n",
    "3. *Precision*: A measure of how discerning the model is\n",
    "4. *F1*: A combination of precision and recall which givens an overall measure of how effective the model is. \n",
    "\n",
    "*Note*: In all models GridSearchCV is optimizing for precision as I had difficulty getting that over the required threshhold. "
   ]
  },
  {
   "cell_type": "markdown",
   "metadata": {},
   "source": [
    "#### Logistic Regression"
   ]
  },
  {
   "cell_type": "code",
   "execution_count": 7,
   "metadata": {
    "collapsed": true
   },
   "outputs": [],
   "source": [
    "clf = [('clf', LogisticRegression())]\n",
    "model = imb_pipeline(base_pipeline + clf)\n",
    "param_grid = base_param_grid.copy()"
   ]
  },
  {
   "cell_type": "code",
   "execution_count": 8,
   "metadata": {
    "collapsed": false
   },
   "outputs": [
    {
     "name": "stdout",
     "output_type": "stream",
     "text": [
      "\n",
      "SCORES:\n",
      "\n",
      "Average Accuracy: 0.798761337868\n",
      "Average Precision:  0.265421152921\n",
      "Average Recall: 0.333333333333\n",
      "Average F1:  0.280404262118\n",
      "\n",
      "Pipeline Parameters:\n",
      "{'pca': PCA(copy=True, iterated_power='auto', n_components=6, random_state=None,\n",
      "  svd_solver='auto', tol=0.0, whiten=False),\n",
      " 'scaler': None,\n",
      " 'selection__k': 15}\n",
      "\n",
      "Retained Features:\n",
      "\n",
      "expenses\n",
      "shared_receipt_with_poi\n",
      "exercised_stock_options\n",
      "from_poi_to_this_person\n",
      "total_stock_value\n",
      "salary\n",
      "bonus\n",
      "restricted_stock\n",
      "long_term_incentive\n",
      "deferred_income\n",
      "other\n",
      "total_payments\n",
      "loan_advances\n",
      "from_messages\n",
      "to_messages\n",
      "Number of principal components retained: 6\n"
     ]
    },
    {
     "data": {
      "image/png": "[encoded data removed]",
      "text/plain": [
       "<matplotlib.figure.Figure at 0x1f4325169e8>"
      ]
     },
     "metadata": {},
     "output_type": "display_data"
    }
   ],
   "source": [
    "lr_grid = evaluate_model(model, param_grid, X, y, optimize='precision')"
   ]
  },
  {
   "cell_type": "markdown",
   "metadata": {},
   "source": [
    "#### K Nearest Neighbors"
   ]
  },
  {
   "cell_type": "code",
   "execution_count": 83,
   "metadata": {
    "collapsed": true
   },
   "outputs": [],
   "source": [
    "clf = [('clf', KNeighborsClassifier())]\n",
    "model = imb_pipeline(base_pipeline + clf)\n",
    "param_grid = base_param_grid.copy()"
   ]
  },
  {
   "cell_type": "code",
   "execution_count": 84,
   "metadata": {
    "collapsed": false
   },
   "outputs": [
    {
     "name": "stdout",
     "output_type": "stream",
     "text": [
      "\n",
      "SCORES:\n",
      "\n",
      "Average Accuracy: 0.725943877551\n",
      "Average Precision:  0.251201136261\n",
      "Average Recall: 0.571111111111\n",
      "Average F1:  0.342235730472\n",
      "\n",
      "Pipeline Parameters:\n",
      "{'pca': None, 'scaler': None, 'selection__k': 15}\n",
      "\n",
      "Retained Features:\n",
      "\n",
      "from_poi_to_this_person\n",
      "bonus\n",
      "shared_receipt_with_poi\n",
      "salary\n",
      "exercised_stock_options\n",
      "long_term_incentive\n",
      "total_stock_value\n",
      "restricted_stock\n",
      "total_payments\n",
      "other\n",
      "from_this_person_to_poi\n",
      "loan_advances\n",
      "deferral_payments\n",
      "to_messages\n",
      "director_fees\n"
     ]
    },
    {
     "data": {
      "image/png": "[encoded data removed]",
      "text/plain": [
       "<matplotlib.figure.Figure at 0x27ab849f4a8>"
      ]
     },
     "metadata": {},
     "output_type": "display_data"
    }
   ],
   "source": [
    "grid = evaluate_model(model, param_grid, X, y, optimize='precision')"
   ]
  },
  {
   "cell_type": "markdown",
   "metadata": {},
   "source": [
    "#### SVM"
   ]
  },
  {
   "cell_type": "code",
   "execution_count": null,
   "metadata": {
    "collapsed": true
   },
   "outputs": [],
   "source": [
    "clf = [('clf', SVC())]\n",
    "model = imb_pipeline(base_pipeline + clf)\n",
    "# extra_params = {'clf__kernel': ['linear', 'rbf']}\n",
    "param_grid = base_param_grid.copy()\n",
    "# param_grid.update(extra_params)"
   ]
  },
  {
   "cell_type": "code",
   "execution_count": null,
   "metadata": {
    "collapsed": false
   },
   "outputs": [],
   "source": [
    "grid = evaluate_model(model, param_grid, X, y, optimize='precision')"
   ]
  },
  {
   "cell_type": "markdown",
   "metadata": {},
   "source": [
    "#### Naive Bayes"
   ]
  },
  {
   "cell_type": "code",
   "execution_count": 75,
   "metadata": {
    "collapsed": true
   },
   "outputs": [],
   "source": [
    "clf = [('clf', GaussianNB())]\n",
    "model = imb_pipeline(base_pipeline + clf)\n",
    "param_grid = base_param_grid.copy()"
   ]
  },
  {
   "cell_type": "code",
   "execution_count": 77,
   "metadata": {
    "collapsed": false
   },
   "outputs": [
    {
     "name": "stdout",
     "output_type": "stream",
     "text": [
      "\n",
      "SCORES:\n",
      "\n",
      "Average Accuracy: 0.803117913832\n",
      "Average Precision:  0.31138010138\n",
      "Average Recall: 0.375555555556\n",
      "Average F1:  0.318231779996\n",
      "\n",
      "Pipeline Parameters:\n",
      "{'pca': PCA(copy=True, iterated_power='auto', n_components=2, random_state=None,\n",
      "  svd_solver='auto', tol=0.0, whiten=False),\n",
      " 'scaler': StandardScaler(copy=True, with_mean=True, with_std=True),\n",
      " 'selection__k': 10}\n",
      "\n",
      "Retained Features:\n",
      "\n",
      "bonus\n",
      "from_poi_to_this_person\n",
      "shared_receipt_with_poi\n",
      "long_term_incentive\n",
      "from_this_person_to_poi\n",
      "salary\n",
      "exercised_stock_options\n",
      "total_stock_value\n",
      "expenses\n",
      "deferral_payments\n",
      "Number of principal components retained: 2\n"
     ]
    },
    {
     "data": {
      "image/png": "[encoded data removed]",
      "text/plain": [
       "<matplotlib.figure.Figure at 0x27ab8bcd780>"
      ]
     },
     "metadata": {},
     "output_type": "display_data"
    }
   ],
   "source": [
    "nb_grid = evaluate_model(model, param_grid, X, y, optimize='f1')"
   ]
  },
  {
   "cell_type": "markdown",
   "metadata": {},
   "source": [
    "#### Decision Tree"
   ]
  },
  {
   "cell_type": "code",
   "execution_count": 85,
   "metadata": {
    "collapsed": true
   },
   "outputs": [],
   "source": [
    "clf = [('clf', DecisionTreeClassifier())]\n",
    "model = imb_pipeline(base_pipeline + clf)\n",
    "param_grid = base_param_grid.copy()"
   ]
  },
  {
   "cell_type": "code",
   "execution_count": 86,
   "metadata": {
    "collapsed": false
   },
   "outputs": [
    {
     "name": "stdout",
     "output_type": "stream",
     "text": [
      "\n",
      "SCORES:\n",
      "\n",
      "Average Accuracy: 0.782757936508\n",
      "Average Precision:  0.231600605277\n",
      "Average Recall: 0.311111111111\n",
      "Average F1:  0.254399764046\n",
      "\n",
      "Pipeline Parameters:\n",
      "{'pca': None, 'scaler': None, 'selection__k': 10}\n",
      "\n",
      "Retained Features:\n",
      "\n",
      "exercised_stock_options\n",
      "total_stock_value\n",
      "salary\n",
      "restricted_stock\n",
      "bonus\n",
      "shared_receipt_with_poi\n",
      "deferred_income\n",
      "long_term_incentive\n",
      "from_this_person_to_poi\n",
      "total_payments\n"
     ]
    },
    {
     "data": {
      "image/png": "[encoded data removed]",
      "text/plain": [
       "<matplotlib.figure.Figure at 0x27ab8bb5588>"
      ]
     },
     "metadata": {},
     "output_type": "display_data"
    }
   ],
   "source": [
    "grid = evaluate_model(model, param_grid, X, y, optimize='precision')"
   ]
  },
  {
   "cell_type": "markdown",
   "metadata": {},
   "source": [
    "### Ensemble Methods"
   ]
  },
  {
   "cell_type": "markdown",
   "metadata": {},
   "source": [
    "#### Random Forest"
   ]
  },
  {
   "cell_type": "code",
   "execution_count": 87,
   "metadata": {
    "collapsed": false
   },
   "outputs": [],
   "source": [
    "clf = [('clf', RandomForestClassifier())]\n",
    "model = imb_pipeline(base_pipeline + clf)\n",
    "param_grid = base_param_grid.copy()"
   ]
  },
  {
   "cell_type": "code",
   "execution_count": 88,
   "metadata": {
    "collapsed": false
   },
   "outputs": [
    {
     "name": "stdout",
     "output_type": "stream",
     "text": [
      "\n",
      "SCORES:\n",
      "\n",
      "Average Accuracy: 0.80089569161\n",
      "Average Precision:  0.254268766321\n",
      "Average Recall: 0.31\n",
      "Average F1:  0.263709098744\n",
      "\n",
      "Pipeline Parameters:\n",
      "{'pca': None, 'scaler': None, 'selection__k': 7}\n",
      "\n",
      "Retained Features:\n",
      "\n",
      "from_poi_to_this_person\n",
      "total_payments\n",
      "bonus\n",
      "long_term_incentive\n",
      "deferred_income\n",
      "exercised_stock_options\n",
      "salary\n"
     ]
    },
    {
     "data": {
      "image/png": "[encoded data removed]",
      "text/plain": [
       "<matplotlib.figure.Figure at 0x27ab8bae4e0>"
      ]
     },
     "metadata": {},
     "output_type": "display_data"
    }
   ],
   "source": [
    "grid = evaluate_model(model, param_grid, X, y, optimize='precision')"
   ]
  },
  {
   "cell_type": "markdown",
   "metadata": {},
   "source": [
    "#### Ada Boost"
   ]
  },
  {
   "cell_type": "code",
   "execution_count": 89,
   "metadata": {
    "collapsed": false
   },
   "outputs": [],
   "source": [
    "clf = [('clf', AdaBoostClassifier())]\n",
    "model = imb_pipeline(base_pipeline + clf)\n",
    "param_grid = base_param_grid.copy()"
   ]
  },
  {
   "cell_type": "code",
   "execution_count": 90,
   "metadata": {
    "collapsed": false
   },
   "outputs": [
    {
     "name": "stdout",
     "output_type": "stream",
     "text": [
      "\n",
      "SCORES:\n",
      "\n",
      "Average Accuracy: 0.802619047619\n",
      "Average Precision:  0.257911505162\n",
      "Average Recall: 0.29\n",
      "Average F1:  0.260617494362\n",
      "\n",
      "Pipeline Parameters:\n",
      "{'pca': None,\n",
      " 'scaler': StandardScaler(copy=True, with_mean=True, with_std=True),\n",
      " 'selection__k': 15}\n",
      "\n",
      "Retained Features:\n",
      "\n",
      "total_stock_value\n",
      "exercised_stock_options\n",
      "restricted_stock\n",
      "deferred_income\n",
      "salary\n",
      "bonus\n",
      "long_term_incentive\n",
      "expenses\n",
      "shared_receipt_with_poi\n",
      "total_payments\n",
      "from_this_person_to_poi\n",
      "deferral_payments\n",
      "loan_advances\n",
      "director_fees\n",
      "other\n"
     ]
    },
    {
     "data": {
      "image/png": "[encoded data removed]",
      "text/plain": [
       "<matplotlib.figure.Figure at 0x27ab84cada0>"
      ]
     },
     "metadata": {},
     "output_type": "display_data"
    }
   ],
   "source": [
    "grid = evaluate_model(model, param_grid, X, y, optimize='precision')"
   ]
  },
  {
   "cell_type": "markdown",
   "metadata": {},
   "source": [
    "## Careful Tuning\n",
    "\n",
    "Tuning the hyperparameters in selected models"
   ]
  },
  {
   "cell_type": "markdown",
   "metadata": {},
   "source": [
    "### Logistic Regression"
   ]
  },
  {
   "cell_type": "code",
   "execution_count": 9,
   "metadata": {
    "collapsed": true
   },
   "outputs": [],
   "source": [
    "clf = [('clf', LogisticRegression())]\n",
    "model = imb_pipeline(base_pipeline + clf)"
   ]
  },
  {
   "cell_type": "code",
   "execution_count": 10,
   "metadata": {
    "collapsed": false
   },
   "outputs": [],
   "source": [
    "param_grid = {}\n",
    "for k, v in lr_grid.best_params_.items():\n",
    "    if v == 'None':\n",
    "        v = None\n",
    "    param_grid[k] = [v]"
   ]
  },
  {
   "cell_type": "code",
   "execution_count": 11,
   "metadata": {
    "collapsed": false
   },
   "outputs": [],
   "source": [
    "param_grid['clf__penalty'] = ['l1', 'l2']\n",
    "param_grid['clf__C'] = [0.1, 1, 10, 100, 1000, 5000]"
   ]
  },
  {
   "cell_type": "code",
   "execution_count": 12,
   "metadata": {
    "collapsed": false
   },
   "outputs": [
    {
     "name": "stdout",
     "output_type": "stream",
     "text": [
      "\n",
      "SCORES:\n",
      "\n",
      "Average Accuracy: 0.801524943311\n",
      "Average Precision:  0.28483699144\n",
      "Average Recall: 0.36\n",
      "Average F1:  0.300858899343\n",
      "\n",
      "Pipeline Parameters:\n",
      "{'clf__C': 100,\n",
      " 'clf__penalty': 'l2',\n",
      " 'pca': PCA(copy=True, iterated_power='auto', n_components=6, random_state=None,\n",
      "  svd_solver='auto', tol=0.0, whiten=False),\n",
      " 'scaler': None,\n",
      " 'selection__k': 15}\n",
      "\n",
      "Retained Features:\n",
      "\n",
      "from_poi_to_this_person\n",
      "shared_receipt_with_poi\n",
      "salary\n",
      "bonus\n",
      "exercised_stock_options\n",
      "total_stock_value\n",
      "restricted_stock\n",
      "expenses\n",
      "deferral_payments\n",
      "long_term_incentive\n",
      "total_payments\n",
      "from_messages\n",
      "loan_advances\n",
      "to_messages\n",
      "director_fees\n",
      "Number of principal components retained: 6\n"
     ]
    },
    {
     "data": {
      "image/png": "[encoded data removed]",
      "text/plain": [
       "<matplotlib.figure.Figure at 0x1f432aa9128>"
      ]
     },
     "metadata": {},
     "output_type": "display_data"
    }
   ],
   "source": [
    "grid = evaluate_model(model, param_grid, X, y, optimize='precision')"
   ]
  },
  {
   "cell_type": "code",
   "execution_count": 96,
   "metadata": {
    "collapsed": true
   },
   "outputs": [],
   "source": [
    "import pickle"
   ]
  },
  {
   "cell_type": "code",
   "execution_count": 97,
   "metadata": {
    "collapsed": false
   },
   "outputs": [],
   "source": [
    "pickle.dump(data, open('my_dataset.pkl', 'wb'))\n",
    "pickle.dump(grid.best_estimator_, open('my_classifier.pkl', 'wb'))\n",
    "pickle.dump(all_features, open('my_feature_list.pkl', 'wb'))"
   ]
  },
  {
   "cell_type": "markdown",
   "metadata": {},
   "source": [
    "### Naive Bayes"
   ]
  },
  {
   "cell_type": "code",
   "execution_count": 78,
   "metadata": {
    "collapsed": true
   },
   "outputs": [],
   "source": [
    "clf = [('clf', GaussianNB())]\n",
    "model = imb_pipeline(base_pipeline + clf)"
   ]
  },
  {
   "cell_type": "code",
   "execution_count": 79,
   "metadata": {
    "collapsed": true
   },
   "outputs": [],
   "source": [
    "param_grid = {}\n",
    "for k, v in nb_grid.best_params_.items():\n",
    "    if v == 'None':\n",
    "        v = None\n",
    "    param_grid[k] = [v]"
   ]
  },
  {
   "cell_type": "code",
   "execution_count": 80,
   "metadata": {
    "collapsed": true
   },
   "outputs": [],
   "source": [
    "param_grid['clf__priors'] = [None, [.5, .5]]"
   ]
  },
  {
   "cell_type": "code",
   "execution_count": 82,
   "metadata": {
    "collapsed": false
   },
   "outputs": [
    {
     "name": "stdout",
     "output_type": "stream",
     "text": [
      "\n",
      "SCORES:\n",
      "\n",
      "Average Accuracy: 0.804503968254\n",
      "Average Precision:  0.308115005507\n",
      "Average Recall: 0.358888888889\n",
      "Average F1:  0.314440201181\n",
      "\n",
      "Pipeline Parameters:\n",
      "{'clf__priors': None,\n",
      " 'pca': PCA(copy=True, iterated_power='auto', n_components=2, random_state=None,\n",
      "  svd_solver='auto', tol=0.0, whiten=False),\n",
      " 'scaler': StandardScaler(copy=True, with_mean=True, with_std=True),\n",
      " 'selection__k': 10}\n",
      "\n",
      "Retained Features:\n",
      "\n",
      "shared_receipt_with_poi\n",
      "salary\n",
      "deferred_income\n",
      "long_term_incentive\n",
      "total_stock_value\n",
      "exercised_stock_options\n",
      "restricted_stock\n",
      "bonus\n",
      "from_poi_to_this_person\n",
      "expenses\n",
      "Number of principal components retained: 2\n"
     ]
    },
    {
     "data": {
      "image/png": "[encoded data removed]",
      "text/plain": [
       "<matplotlib.figure.Figure at 0x27ab8638ac8>"
      ]
     },
     "metadata": {},
     "output_type": "display_data"
    }
   ],
   "source": [
    "grid = evaluate_model(model, param_grid, X, y, optimize='f1')"
   ]
  }
 ],
 "metadata": {
  "anaconda-cloud": {},
  "kernelspec": {
   "display_name": "Python [conda root]",
   "language": "python",
   "name": "conda-root-py"
  },
  "language_info": {
   "codemirror_mode": {
    "name": "ipython",
    "version": 3
   },
   "file_extension": ".py",
   "mimetype": "text/x-python",
   "name": "python",
   "nbconvert_exporter": "python",
   "pygments_lexer": "ipython3",
   "version": "3.5.2"
  }
 },
 "nbformat": 4,
 "nbformat_minor": 1
}
