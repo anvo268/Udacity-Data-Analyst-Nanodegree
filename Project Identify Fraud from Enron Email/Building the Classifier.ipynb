{
 "cells": [
  {
   "cell_type": "code",
   "execution_count": 29,
   "metadata": {
    "collapsed": false
   },
   "outputs": [],
   "source": [
    "from Functions import *"
   ]
  },
  {
   "cell_type": "code",
   "execution_count": 2,
   "metadata": {
    "collapsed": true
   },
   "outputs": [],
   "source": [
    "# I get warnings when precision is 0 in bad classifiers\n",
    "import warnings; warnings.simplefilter('ignore')"
   ]
  },
  {
   "cell_type": "code",
   "execution_count": 3,
   "metadata": {
    "collapsed": false
   },
   "outputs": [],
   "source": [
    "%load_ext autoreload\n",
    "%autoreload 2\n",
    "%matplotlib inline"
   ]
  },
  {
   "cell_type": "markdown",
   "metadata": {},
   "source": [
    "**Loading the Data**"
   ]
  },
  {
   "cell_type": "code",
   "execution_count": 4,
   "metadata": {
    "collapsed": false
   },
   "outputs": [],
   "source": [
    "data = load_data()\n",
    "# dropping my obvious outlier\n",
    "data = remove_outliers(data)"
   ]
  },
  {
   "cell_type": "markdown",
   "metadata": {},
   "source": [
    "### My Basic Preprocessing Pipeline"
   ]
  },
  {
   "cell_type": "markdown",
   "metadata": {},
   "source": [
    "There are a number of preprocessing steps I attempt with each model before adding the classifier. My basic pipeline is as follows: \n",
    "\n",
    "1. *Imputer*: Imputes values for observations with null values. My default strategy is 'median'. \n",
    "<br><br>\n",
    "2. *Resampling*: There are very few POIs relative to the total number of observations. Most classifiers struggle with highly imbalanced classes like this. I use an implementation of the SMOTE algorithm to artificially generate new POI observations in order to balance my dataset. \n",
    "<br><br>\n",
    "3. *Feature Selection*: In order to eliminate noise and maintain a parsimonious model, I want to keep only the most valuable features. I used Sklearn's SelectKBest with ANOVA F-scores as the scoring metric. It limits me to \"k\" features with highest F-scores (A metric for how well the feature separates my classes). \n",
    "<br><br>\n",
    "4. *Feature Scaling*: A number of my features are on wildly different scales which means that some algorithms will overweight certain features when determining the class. My default scaler standardizes all my features (set mean to 0 and std to 1) to account for this. \n",
    "<br><br>\n",
    "5. *Principal Component Analysis*: PCA does a number of things. First it can help reduce noise by finding combinations of features that explain the most variation in my data so I can use a smaller number of features when actually fitting the model. Second it projects all features onto orthogonal axis so I don't need to worry about issues of multicollinearity which can affect the performance of some models.  "
   ]
  },
  {
   "cell_type": "code",
   "execution_count": 5,
   "metadata": {
    "collapsed": false
   },
   "outputs": [
    {
     "name": "stdout",
     "output_type": "stream",
     "text": [
      "Step: imputer\n",
      "Implementation: Imputer(axis=0, copy=True, missing_values='NaN', strategy='median', verbose=0)\n",
      "=====================\n",
      "\n",
      "Step: resampling\n",
      "Implementation: SMOTE(k=None, k_neighbors=5, kind='regular', m=None, m_neighbors=10, n_jobs=1,\n",
      "   out_step=0.5, random_state=None, ratio='auto', svm_estimator=None)\n",
      "=====================\n",
      "\n",
      "Step: selection\n",
      "Implementation: SelectKBest(k=10, score_func=<function f_classif at 0x0000014CBE32A598>)\n",
      "=====================\n",
      "\n",
      "Step: scaler\n",
      "Implementation: StandardScaler(copy=True, with_mean=True, with_std=True)\n",
      "=====================\n",
      "\n",
      "Step: pca\n",
      "Implementation: PCA(copy=True, iterated_power='auto', n_components=None, random_state=None,\n",
      "  svd_solver='auto', tol=0.0, whiten=False)\n",
      "=====================\n",
      "\n"
     ]
    }
   ],
   "source": [
    "for step, impl in base_pipeline:\n",
    "    print('Step:', step)\n",
    "    print('Implementation:', impl)\n",
    "    print('=====================\\n')"
   ]
  },
  {
   "cell_type": "markdown",
   "metadata": {},
   "source": [
    "### Pipeline Tuning\n",
    "\n",
    "Prior to tuning the hyperparameters, I use grid search cross validation to make sure I am using the optimal pipeline permuation for each model. I chose to keep these separate from the hyperparameter tuning to keep the number of permutations I had to test from getting out of control. The parameters I adjust to create each pipeline permuation are:\n",
    "\n",
    "1. *Feature Scaling*: I try each pipeline with and without feature scaling. \n",
    "<br><br>\n",
    "2. *Number of Features in Feature Selection*: I try a number of different values for k (The # of features to keep)\n",
    "<br><br>\n",
    "3. *PCA*: I try the pipeline with no PCA and PCA with a number of different components being kept. "
   ]
  },
  {
   "cell_type": "code",
   "execution_count": 6,
   "metadata": {
    "collapsed": false
   },
   "outputs": [
    {
     "name": "stdout",
     "output_type": "stream",
     "text": [
      "Parameter: scaler\n",
      "Possible Values:\n",
      "[None, StandardScaler(copy=True, with_mean=True, with_std=True)]\n",
      "=====================\n",
      "\n",
      "Parameter: selection__k\n",
      "Possible Values:\n",
      "[7, 10, 15]\n",
      "=====================\n",
      "\n",
      "Parameter: pca\n",
      "Possible Values:\n",
      "[None,\n",
      " PCA(copy=True, iterated_power='auto', n_components=2, random_state=None,\n",
      "  svd_solver='auto', tol=0.0, whiten=False),\n",
      " PCA(copy=True, iterated_power='auto', n_components=4, random_state=None,\n",
      "  svd_solver='auto', tol=0.0, whiten=False),\n",
      " PCA(copy=True, iterated_power='auto', n_components=6, random_state=None,\n",
      "  svd_solver='auto', tol=0.0, whiten=False)]\n",
      "=====================\n",
      "\n"
     ]
    }
   ],
   "source": [
    "for param, vals in base_param_grid.items():\n",
    "    print('Parameter:', param)\n",
    "    print('Possible Values:')\n",
    "    pprint(vals)\n",
    "    print('=====================\\n')"
   ]
  },
  {
   "cell_type": "code",
   "execution_count": 7,
   "metadata": {
    "collapsed": false
   },
   "outputs": [],
   "source": [
    "X, y = data[all_features], data.poi"
   ]
  },
  {
   "cell_type": "markdown",
   "metadata": {},
   "source": [
    "## Model Selection\n",
    "\n",
    "I tried a variety of different classifiers, using GridSearchCV to find the optimal pipeline for each one. Displayed below are the scores for the model, a confusion matrix, the optimal pipeline parameters, and information about which features were used. \n",
    "\n",
    "**Scores Explained:** I use several metrics to evaluate the model\n",
    "1. *Accuracy*: The proportion of correct classifications\n",
    "2. *Recall*: The proportion of POI's identified\n",
    "3. *Precision*: A measure of how discerning the model is\n",
    "4. *F1*: A combination of precision and recall which givens an overall measure of how effective the model is. \n",
    "\n",
    "*Note*: In all models GridSearchCV is optimizing for precision as I had difficulty getting that over the required threshhold. "
   ]
  },
  {
   "cell_type": "markdown",
   "metadata": {},
   "source": [
    "#### Logistic Regression"
   ]
  },
  {
   "cell_type": "code",
   "execution_count": 36,
   "metadata": {
    "collapsed": true
   },
   "outputs": [],
   "source": [
    "clf = [('clf', LogisticRegression())]\n",
    "model = imb_pipeline(base_pipeline + clf)\n",
    "param_grid = base_param_grid.copy()"
   ]
  },
  {
   "cell_type": "code",
   "execution_count": 37,
   "metadata": {
    "collapsed": false
   },
   "outputs": [
    {
     "name": "stdout",
     "output_type": "stream",
     "text": [
      "\n",
      "SCORES:\n",
      "\n",
      "Average Accuracy: 0.783865248227\n",
      "Average Precision:  0.313223581974\n",
      "Average Recall: 0.561111111111\n",
      "Average F1:  0.392974745986\n",
      "\n",
      "Pipeline Parameters:\n",
      "{'pca': PCA(copy=True, iterated_power='auto', n_components=2, random_state=None,\n",
      "  svd_solver='auto', tol=0.0, whiten=False),\n",
      " 'scaler': StandardScaler(copy=True, with_mean=True, with_std=True),\n",
      " 'selection__k': 15}\n",
      "\n",
      "Retained Features:\n",
      "\n",
      "exercised_stock_options\n",
      "total_stock_value\n",
      "long_term_incentive\n",
      "deferred_income\n",
      "shared_receipt_with_poi\n",
      "bonus\n",
      "salary\n",
      "restricted_stock\n",
      "deferral_payments\n",
      "from_poi_to_this_person\n",
      "from_this_person_to_poi\n",
      "expenses\n",
      "director_fees\n",
      "from_messages\n",
      "restricted_stock_deferred\n",
      "Number of principal components retained: 2\n"
     ]
    },
    {
     "data": {
      "image/png": "[encoded data removed]",
      "text/plain": [
       "<matplotlib.figure.Figure at 0x14cbffd0e80>"
      ]
     },
     "metadata": {},
     "output_type": "display_data"
    }
   ],
   "source": [
    "lr_grid = evaluate_model(model, param_grid, X, y, optimize='precision')"
   ]
  },
  {
   "cell_type": "markdown",
   "metadata": {},
   "source": [
    "Results look pretty good here. Both recall and precision are over .3, which were the minimum values set for the project. "
   ]
  },
  {
   "cell_type": "markdown",
   "metadata": {},
   "source": [
    "#### K Nearest Neighbors"
   ]
  },
  {
   "cell_type": "code",
   "execution_count": 42,
   "metadata": {
    "collapsed": true
   },
   "outputs": [],
   "source": [
    "clf = [('clf', KNeighborsClassifier())]\n",
    "model = imb_pipeline(base_pipeline + clf)\n",
    "param_grid = base_param_grid.copy()"
   ]
  },
  {
   "cell_type": "code",
   "execution_count": 43,
   "metadata": {
    "collapsed": false
   },
   "outputs": [
    {
     "name": "stdout",
     "output_type": "stream",
     "text": [
      "\n",
      "SCORES:\n",
      "\n",
      "Average Accuracy: 0.723005319149\n",
      "Average Precision:  0.253582040594\n",
      "Average Recall: 0.577777777778\n",
      "Average F1:  0.348220064969\n",
      "\n",
      "Pipeline Parameters:\n",
      "{'pca': PCA(copy=True, iterated_power='auto', n_components=2, random_state=None,\n",
      "  svd_solver='auto', tol=0.0, whiten=False),\n",
      " 'scaler': StandardScaler(copy=True, with_mean=True, with_std=True),\n",
      " 'selection__k': 7}\n",
      "\n",
      "Retained Features:\n",
      "\n",
      "exercised_stock_options\n",
      "total_stock_value\n",
      "long_term_incentive\n",
      "deferred_income\n",
      "shared_receipt_with_poi\n",
      "bonus\n",
      "salary\n",
      "Number of principal components retained: 2\n"
     ]
    },
    {
     "data": {
      "image/png": "[encoded data removed]",
      "text/plain": [
       "<matplotlib.figure.Figure at 0x14cc00ee710>"
      ]
     },
     "metadata": {},
     "output_type": "display_data"
    }
   ],
   "source": [
    "grid = evaluate_model(model, param_grid, X, y, optimize='precision')"
   ]
  },
  {
   "cell_type": "markdown",
   "metadata": {},
   "source": [
    "Although my F1 is similar to Logistic Regression, my precision is below the .3 threshold expected for the project. "
   ]
  },
  {
   "cell_type": "markdown",
   "metadata": {},
   "source": [
    "#### SVM"
   ]
  },
  {
   "cell_type": "code",
   "execution_count": 46,
   "metadata": {
    "collapsed": true
   },
   "outputs": [],
   "source": [
    "clf = [('clf', SVC())]\n",
    "model = imb_pipeline(base_pipeline + clf)\n",
    "# extra_params = {'clf__kernel': ['linear', 'rbf']}\n",
    "param_grid = base_param_grid.copy()\n",
    "# param_grid.update(extra_params)"
   ]
  },
  {
   "cell_type": "code",
   "execution_count": 47,
   "metadata": {
    "collapsed": false
   },
   "outputs": [
    {
     "name": "stdout",
     "output_type": "stream",
     "text": [
      "\n",
      "SCORES:\n",
      "\n",
      "Average Accuracy: 0.732904846336\n",
      "Average Precision:  0.266361182104\n",
      "Average Recall: 0.622222222222\n",
      "Average F1:  0.370016522648\n",
      "\n",
      "Pipeline Parameters:\n",
      "{'pca': PCA(copy=True, iterated_power='auto', n_components=2, random_state=None,\n",
      "  svd_solver='auto', tol=0.0, whiten=False),\n",
      " 'scaler': StandardScaler(copy=True, with_mean=True, with_std=True),\n",
      " 'selection__k': 10}\n",
      "\n",
      "Retained Features:\n",
      "\n",
      "exercised_stock_options\n",
      "total_stock_value\n",
      "long_term_incentive\n",
      "deferred_income\n",
      "shared_receipt_with_poi\n",
      "bonus\n",
      "salary\n",
      "restricted_stock\n",
      "deferral_payments\n",
      "from_poi_to_this_person\n",
      "Number of principal components retained: 2\n"
     ]
    },
    {
     "data": {
      "image/png": "[encoded data removed]",
      "text/plain": [
       "<matplotlib.figure.Figure at 0x14cc064e3c8>"
      ]
     },
     "metadata": {},
     "output_type": "display_data"
    }
   ],
   "source": [
    "grid = evaluate_model(model, param_grid, X, y, optimize='precision')"
   ]
  },
  {
   "cell_type": "markdown",
   "metadata": {},
   "source": [
    "Great recall, low precision. I'm not going to move forward with this model because it takes so long to train. "
   ]
  },
  {
   "cell_type": "markdown",
   "metadata": {},
   "source": [
    "#### Naive Bayes"
   ]
  },
  {
   "cell_type": "code",
   "execution_count": 48,
   "metadata": {
    "collapsed": true
   },
   "outputs": [],
   "source": [
    "clf = [('clf', GaussianNB())]\n",
    "model = imb_pipeline(base_pipeline + clf)\n",
    "param_grid = base_param_grid.copy()"
   ]
  },
  {
   "cell_type": "code",
   "execution_count": 49,
   "metadata": {
    "collapsed": false
   },
   "outputs": [
    {
     "name": "stdout",
     "output_type": "stream",
     "text": [
      "\n",
      "SCORES:\n",
      "\n",
      "Average Accuracy: 0.818823877069\n",
      "Average Precision:  0.350695045695\n",
      "Average Recall: 0.388888888889\n",
      "Average F1:  0.351470822206\n",
      "\n",
      "Pipeline Parameters:\n",
      "{'pca': None, 'scaler': None, 'selection__k': 7}\n",
      "\n",
      "Retained Features:\n",
      "\n",
      "exercised_stock_options\n",
      "total_stock_value\n",
      "long_term_incentive\n",
      "deferred_income\n",
      "shared_receipt_with_poi\n",
      "bonus\n",
      "salary\n"
     ]
    },
    {
     "data": {
      "image/png": "[encoded data removed]",
      "text/plain": [
       "<matplotlib.figure.Figure at 0x14cc05cbf28>"
      ]
     },
     "metadata": {},
     "output_type": "display_data"
    }
   ],
   "source": [
    "nb_grid = evaluate_model(model, param_grid, X, y, optimize='f1')"
   ]
  },
  {
   "cell_type": "markdown",
   "metadata": {},
   "source": [
    "Recall is much worse than my other classifiers, but precision performed great. "
   ]
  },
  {
   "cell_type": "markdown",
   "metadata": {},
   "source": [
    "#### Decision Tree"
   ]
  },
  {
   "cell_type": "code",
   "execution_count": 57,
   "metadata": {
    "collapsed": true
   },
   "outputs": [],
   "source": [
    "clf = [('clf', DecisionTreeClassifier())]\n",
    "model = imb_pipeline(base_pipeline + clf)\n",
    "param_grid = base_param_grid.copy()"
   ]
  },
  {
   "cell_type": "code",
   "execution_count": 58,
   "metadata": {
    "collapsed": false
   },
   "outputs": [
    {
     "name": "stdout",
     "output_type": "stream",
     "text": [
      "\n",
      "SCORES:\n",
      "\n",
      "Average Accuracy: 0.774793144208\n",
      "Average Precision:  0.242785322521\n",
      "Average Recall: 0.307777777778\n",
      "Average F1:  0.255021478228\n",
      "\n",
      "Pipeline Parameters:\n",
      "{'pca': None, 'scaler': None, 'selection__k': 7}\n",
      "\n",
      "Retained Features:\n",
      "\n",
      "exercised_stock_options\n",
      "total_stock_value\n",
      "long_term_incentive\n",
      "deferred_income\n",
      "shared_receipt_with_poi\n",
      "bonus\n",
      "salary\n"
     ]
    },
    {
     "data": {
      "image/png": "[encoded data removed]",
      "text/plain": [
       "<matplotlib.figure.Figure at 0x14cc057f828>"
      ]
     },
     "metadata": {},
     "output_type": "display_data"
    }
   ],
   "source": [
    "grid = evaluate_model(model, param_grid, X, y, optimize='precision')"
   ]
  },
  {
   "cell_type": "markdown",
   "metadata": {},
   "source": [
    "### Ensemble Methods\n",
    "\n",
    "Next I'll look at some ensemble classifiers"
   ]
  },
  {
   "cell_type": "markdown",
   "metadata": {},
   "source": [
    "#### Random Forest"
   ]
  },
  {
   "cell_type": "code",
   "execution_count": 52,
   "metadata": {
    "collapsed": false
   },
   "outputs": [],
   "source": [
    "clf = [('clf', RandomForestClassifier())]\n",
    "model = imb_pipeline(base_pipeline + clf)\n",
    "param_grid = base_param_grid.copy()"
   ]
  },
  {
   "cell_type": "code",
   "execution_count": 53,
   "metadata": {
    "collapsed": false
   },
   "outputs": [
    {
     "name": "stdout",
     "output_type": "stream",
     "text": [
      "\n",
      "SCORES:\n",
      "\n",
      "Average Accuracy: 0.80176713948\n",
      "Average Precision:  0.248137436637\n",
      "Average Recall: 0.291111111111\n",
      "Average F1:  0.259253003962\n",
      "\n",
      "Pipeline Parameters:\n",
      "{'pca': None, 'scaler': None, 'selection__k': 10}\n",
      "\n",
      "Retained Features:\n",
      "\n",
      "exercised_stock_options\n",
      "total_stock_value\n",
      "long_term_incentive\n",
      "deferred_income\n",
      "shared_receipt_with_poi\n",
      "bonus\n",
      "salary\n",
      "restricted_stock\n",
      "deferral_payments\n",
      "from_poi_to_this_person\n"
     ]
    },
    {
     "data": {
      "image/png": "[encoded data removed]",
      "text/plain": [
       "<matplotlib.figure.Figure at 0x14cc05f4518>"
      ]
     },
     "metadata": {},
     "output_type": "display_data"
    }
   ],
   "source": [
    "grid = evaluate_model(model, param_grid, X, y, optimize='precision')"
   ]
  },
  {
   "cell_type": "markdown",
   "metadata": {},
   "source": [
    "#### Ada Boost"
   ]
  },
  {
   "cell_type": "code",
   "execution_count": 54,
   "metadata": {
    "collapsed": false
   },
   "outputs": [],
   "source": [
    "clf = [('clf', AdaBoostClassifier())]\n",
    "model = imb_pipeline(base_pipeline + clf)\n",
    "param_grid = base_param_grid.copy()"
   ]
  },
  {
   "cell_type": "code",
   "execution_count": 55,
   "metadata": {
    "collapsed": false
   },
   "outputs": [
    {
     "name": "stdout",
     "output_type": "stream",
     "text": [
      "\n",
      "SCORES:\n",
      "\n",
      "Average Accuracy: 0.805629432624\n",
      "Average Precision:  0.307463462463\n",
      "Average Recall: 0.344444444444\n",
      "Average F1:  0.30521293779\n",
      "\n",
      "Pipeline Parameters:\n",
      "{'pca': None, 'scaler': None, 'selection__k': 10}\n",
      "\n",
      "Retained Features:\n",
      "\n",
      "exercised_stock_options\n",
      "total_stock_value\n",
      "long_term_incentive\n",
      "deferred_income\n",
      "shared_receipt_with_poi\n",
      "bonus\n",
      "salary\n",
      "restricted_stock\n",
      "deferral_payments\n",
      "from_poi_to_this_person\n"
     ]
    },
    {
     "data": {
      "image/png": "[encoded data removed]",
      "text/plain": [
       "<matplotlib.figure.Figure at 0x14cbfd1b4a8>"
      ]
     },
     "metadata": {},
     "output_type": "display_data"
    }
   ],
   "source": [
    "grid = evaluate_model(model, param_grid, X, y, optimize='precision')"
   ]
  },
  {
   "cell_type": "markdown",
   "metadata": {},
   "source": [
    "## Careful Tuning\n",
    "\n",
    "Tuning the hyperparameters in selected models. I chose to move forward only with logistic regression and naive bayes as those models had the best performance prior to tuning. "
   ]
  },
  {
   "cell_type": "markdown",
   "metadata": {},
   "source": [
    "### Naive Bayes"
   ]
  },
  {
   "cell_type": "code",
   "execution_count": 59,
   "metadata": {
    "collapsed": true
   },
   "outputs": [],
   "source": [
    "clf = [('clf', GaussianNB())]\n",
    "model = imb_pipeline(base_pipeline + clf)"
   ]
  },
  {
   "cell_type": "code",
   "execution_count": 60,
   "metadata": {
    "collapsed": true
   },
   "outputs": [],
   "source": [
    "param_grid = {}\n",
    "for k, v in nb_grid.best_params_.items():\n",
    "    if v == 'None':\n",
    "        v = None\n",
    "    param_grid[k] = [v]"
   ]
  },
  {
   "cell_type": "code",
   "execution_count": 61,
   "metadata": {
    "collapsed": true
   },
   "outputs": [],
   "source": [
    "param_grid['clf__priors'] = [None, [.5, .5]]"
   ]
  },
  {
   "cell_type": "code",
   "execution_count": 62,
   "metadata": {
    "collapsed": false
   },
   "outputs": [
    {
     "name": "stdout",
     "output_type": "stream",
     "text": [
      "\n",
      "SCORES:\n",
      "\n",
      "Average Accuracy: 0.818823877069\n",
      "Average Precision:  0.350695045695\n",
      "Average Recall: 0.388888888889\n",
      "Average F1:  0.351470822206\n",
      "\n",
      "Pipeline Parameters:\n",
      "{'clf__priors': None, 'pca': None, 'scaler': None, 'selection__k': 7}\n",
      "\n",
      "Retained Features:\n",
      "\n",
      "exercised_stock_options\n",
      "total_stock_value\n",
      "long_term_incentive\n",
      "deferred_income\n",
      "shared_receipt_with_poi\n",
      "bonus\n",
      "salary\n"
     ]
    },
    {
     "data": {
      "image/png": "[encoded data removed]",
      "text/plain": [
       "<matplotlib.figure.Figure at 0x14cc05a7b70>"
      ]
     },
     "metadata": {},
     "output_type": "display_data"
    }
   ],
   "source": [
    "grid = evaluate_model(model, param_grid, X, y, optimize='f1')"
   ]
  },
  {
   "cell_type": "markdown",
   "metadata": {},
   "source": [
    "There aren't a lot of hyperparameters to tune here, the model still performs worse than logistic regression. "
   ]
  },
  {
   "cell_type": "markdown",
   "metadata": {},
   "source": [
    "### Logistic Regression"
   ]
  },
  {
   "cell_type": "code",
   "execution_count": 63,
   "metadata": {
    "collapsed": true
   },
   "outputs": [],
   "source": [
    "clf = [('clf', LogisticRegression())]\n",
    "model = imb_pipeline(base_pipeline + clf)"
   ]
  },
  {
   "cell_type": "code",
   "execution_count": 64,
   "metadata": {
    "collapsed": false
   },
   "outputs": [],
   "source": [
    "param_grid = {}\n",
    "for k, v in lr_grid.best_params_.items():\n",
    "    if v == 'None':\n",
    "        v = None\n",
    "    param_grid[k] = [v]"
   ]
  },
  {
   "cell_type": "code",
   "execution_count": 65,
   "metadata": {
    "collapsed": false
   },
   "outputs": [],
   "source": [
    "param_grid['clf__penalty'] = ['l1', 'l2']\n",
    "param_grid['clf__C'] = [0.1, 1, 10, 100, 1000, 5000]"
   ]
  },
  {
   "cell_type": "code",
   "execution_count": 66,
   "metadata": {
    "collapsed": false
   },
   "outputs": [
    {
     "name": "stdout",
     "output_type": "stream",
     "text": [
      "\n",
      "SCORES:\n",
      "\n",
      "Average Accuracy: 0.805511229314\n",
      "Average Precision:  0.335045880046\n",
      "Average Recall: 0.488888888889\n",
      "Average F1:  0.381318883502\n",
      "\n",
      "Pipeline Parameters:\n",
      "{'clf__C': 0.1,\n",
      " 'clf__penalty': 'l1',\n",
      " 'pca': PCA(copy=True, iterated_power='auto', n_components=2, random_state=None,\n",
      "  svd_solver='auto', tol=0.0, whiten=False),\n",
      " 'scaler': StandardScaler(copy=True, with_mean=True, with_std=True),\n",
      " 'selection__k': 15}\n",
      "\n",
      "Retained Features:\n",
      "\n",
      "exercised_stock_options\n",
      "total_stock_value\n",
      "long_term_incentive\n",
      "deferred_income\n",
      "shared_receipt_with_poi\n",
      "bonus\n",
      "salary\n",
      "restricted_stock\n",
      "deferral_payments\n",
      "from_poi_to_this_person\n",
      "from_this_person_to_poi\n",
      "expenses\n",
      "director_fees\n",
      "from_messages\n",
      "restricted_stock_deferred\n",
      "Number of principal components retained: 2\n"
     ]
    },
    {
     "data": {
      "image/png": "[encoded data removed]",
      "text/plain": [
       "<matplotlib.figure.Figure at 0x14cc05c9358>"
      ]
     },
     "metadata": {},
     "output_type": "display_data"
    }
   ],
   "source": [
    "grid = evaluate_model(model, param_grid, X, y, optimize='precision')"
   ]
  },
  {
   "cell_type": "markdown",
   "metadata": {},
   "source": [
    "This is my best and final model. Below I pickle individual components for submission with Udacity. "
   ]
  },
  {
   "cell_type": "code",
   "execution_count": 96,
   "metadata": {
    "collapsed": true
   },
   "outputs": [],
   "source": [
    "import pickle"
   ]
  },
  {
   "cell_type": "code",
   "execution_count": 97,
   "metadata": {
    "collapsed": false
   },
   "outputs": [],
   "source": [
    "pickle.dump(data, open('my_dataset.pkl', 'wb'))\n",
    "pickle.dump(grid.best_estimator_, open('my_classifier.pkl', 'wb'))\n",
    "pickle.dump(all_features, open('my_feature_list.pkl', 'wb'))"
   ]
  }
 ],
 "metadata": {
  "anaconda-cloud": {},
  "kernelspec": {
   "display_name": "Python [conda root]",
   "language": "python",
   "name": "conda-root-py"
  },
  "language_info": {
   "codemirror_mode": {
    "name": "ipython",
    "version": 3
   },
   "file_extension": ".py",
   "mimetype": "text/x-python",
   "name": "python",
   "nbconvert_exporter": "python",
   "pygments_lexer": "ipython3",
   "version": "3.5.2"
  }
 },
 "nbformat": 4,
 "nbformat_minor": 1
}
