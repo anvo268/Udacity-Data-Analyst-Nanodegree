{
 "cells": [
  {
   "cell_type": "code",
   "execution_count": 1,
   "metadata": {
    "collapsed": true
   },
   "outputs": [],
   "source": [
    "import numpy as np"
   ]
  },
  {
   "cell_type": "code",
   "execution_count": 2,
   "metadata": {
    "collapsed": true
   },
   "outputs": [],
   "source": [
    "from LoadData import *"
   ]
  },
  {
   "cell_type": "markdown",
   "metadata": {},
   "source": [
    "## Ensuring that data is clean"
   ]
  },
  {
   "cell_type": "markdown",
   "metadata": {},
   "source": [
    "Reading in the data"
   ]
  },
  {
   "cell_type": "code",
   "execution_count": 3,
   "metadata": {
    "collapsed": false
   },
   "outputs": [],
   "source": [
    "nodes_df = pd.read_csv('CSVs/nodes.csv')\n",
    "nodes_tags_df = pd.read_csv('CSVs/nodes_tags.csv')\n",
    "ways_df = pd.read_csv('CSVs/ways.csv')\n",
    "ways_tags_df = pd.read_csv('CSVs/ways_tags.csv')\n",
    "ways_nodes_df = pd.read_csv('CSVs/ways_nodes.csv')\n",
    "\n",
    "nodes_df = clean_dataframe(nodes_df)\n",
    "nodes_tags_df = clean_dataframe(nodes_tags_df)\n",
    "ways_df = clean_dataframe(ways_df)\n",
    "ways_tags_df = clean_dataframe(ways_tags_df)\n",
    "ways_nodes_df = clean_dataframe(ways_nodes_df)"
   ]
  },
  {
   "cell_type": "markdown",
   "metadata": {},
   "source": [
    "### nodes_df"
   ]
  },
  {
   "cell_type": "code",
   "execution_count": 4,
   "metadata": {
    "collapsed": false
   },
   "outputs": [],
   "source": [
    "df = nodes_df"
   ]
  },
  {
   "cell_type": "code",
   "execution_count": 5,
   "metadata": {
    "collapsed": false
   },
   "outputs": [
    {
     "data": {
      "text/plain": [
       "id           258888\n",
       "lat          258888\n",
       "lon          258888\n",
       "user         258888\n",
       "uid          258888\n",
       "version      258888\n",
       "changeset    258888\n",
       "timestamp    258888\n",
       "dtype: int64"
      ]
     },
     "execution_count": 5,
     "metadata": {},
     "output_type": "execute_result"
    }
   ],
   "source": [
    "# Are there null values?\n",
    "df.count()"
   ]
  },
  {
   "cell_type": "code",
   "execution_count": 6,
   "metadata": {
    "collapsed": false
   },
   "outputs": [
    {
     "name": "stdout",
     "output_type": "stream",
     "text": [
      "---- id ---\n",
      "\n",
      "2673381928    1\n",
      "2173961976    1\n",
      "2563663335    1\n",
      "Name: id, dtype: int64\n",
      "\n",
      "---- lat ---\n",
      "\n",
      "35.2703622    7\n",
      "35.266772     7\n",
      "35.2616975    7\n",
      "Name: lat, dtype: int64\n",
      "\n",
      "---- lon ---\n",
      "\n",
      "-120.6496334    8\n",
      "-120.6676142    6\n",
      "-120.6757968    6\n",
      "Name: lon, dtype: int64\n",
      "\n",
      "---- user ---\n",
      "\n",
      "Brad DeBranch    54677\n",
      "chadbunn         51732\n",
      "j03lar50n        23345\n",
      "Name: user, dtype: int64\n",
      "\n",
      "---- uid ---\n",
      "\n",
      "1058654    54677\n",
      "1058653    51732\n",
      "78918      23345\n",
      "Name: uid, dtype: int64\n",
      "\n",
      "---- version ---\n",
      "\n",
      "1    112880\n",
      "2     72531\n",
      "3     53738\n",
      "Name: version, dtype: int64\n",
      "\n",
      "---- changeset ---\n",
      "\n",
      "37573363    11362\n",
      "20583842     5913\n",
      "3294625      4490\n",
      "Name: changeset, dtype: int64\n",
      "\n",
      "---- timestamp ---\n",
      "\n",
      "2017-01-19T17:59:42Z    93\n",
      "2017-01-19T17:59:43Z    87\n",
      "2017-03-01T18:36:13Z    86\n",
      "Name: timestamp, dtype: int64\n",
      "\n"
     ]
    }
   ],
   "source": [
    "# I want to see the top 3 values for each column to inspect if something weird is going on\n",
    "for c in df.columns:\n",
    "    print(\"---- %s ---\\n\" % c)\n",
    "    print(df[c].value_counts()[:3])\n",
    "    print()"
   ]
  },
  {
   "cell_type": "markdown",
   "metadata": {},
   "source": [
    "### nodes_tags_df"
   ]
  },
  {
   "cell_type": "code",
   "execution_count": 8,
   "metadata": {
    "collapsed": false
   },
   "outputs": [],
   "source": [
    "df = nodes_tags_df"
   ]
  },
  {
   "cell_type": "code",
   "execution_count": 9,
   "metadata": {
    "collapsed": false
   },
   "outputs": [
    {
     "data": {
      "text/plain": [
       "id       13345\n",
       "key      13345\n",
       "value    13345\n",
       "type     13345\n",
       "dtype: int64"
      ]
     },
     "execution_count": 9,
     "metadata": {},
     "output_type": "execute_result"
    }
   ],
   "source": [
    "# Are there null values?\n",
    "df.count()"
   ]
  },
  {
   "cell_type": "code",
   "execution_count": 10,
   "metadata": {
    "collapsed": false
   },
   "outputs": [
    {
     "name": "stdout",
     "output_type": "stream",
     "text": [
      "---- id ---\n",
      "\n",
      "4929556824    17\n",
      "3645164858    15\n",
      "2129478493    15\n",
      "Name: id, dtype: int64\n",
      "\n",
      "---- key ---\n",
      "\n",
      "emergency      2314\n",
      "housenumber    1862\n",
      "full           1308\n",
      "Name: key, dtype: int64\n",
      "\n",
      "---- value ---\n",
      "\n",
      "fire_hydrant    2285\n",
      "yes              341\n",
      "stop             316\n",
      "Name: value, dtype: int64\n",
      "\n",
      "---- type ---\n",
      "\n",
      "regular    7249\n",
      "addr       5821\n",
      "gnis        176\n",
      "Name: type, dtype: int64\n",
      "\n"
     ]
    }
   ],
   "source": [
    "# I want to see the top 3 values for each column to inspect if something weird is going on\n",
    "for c in df.columns:\n",
    "    print(\"---- %s ---\\n\" % c)\n",
    "    print(df[c].value_counts()[:3])\n",
    "    print()"
   ]
  },
  {
   "cell_type": "code",
   "execution_count": 11,
   "metadata": {
    "collapsed": false
   },
   "outputs": [
    {
     "data": {
      "text/plain": [
       "array(['highway', 'ref', 'power', 'barrier', 'reviewed', 'railway',\n",
       "       'traffic_signals', 'ele', 'name', 'place', 'id', 'wikidata',\n",
       "       'gnis:Class', 'population', 'gnis:County', 'gnis:ST_num',\n",
       "       'import_uuid', 'gnis:ST_alpha', 'gnis:County_num', 'emergency',\n",
       "       'natural', 'created', 'state_id', 'county_id', 'feature_id',\n",
       "       'amenity', 'phone', 'website', 'operator', 'man_made', 'religion',\n",
       "       'denomination', 'city', 'housenumber', 'edited', 'source', 'state',\n",
       "       'county_name', 'full', 'street:name', 'tourism', 'wheelchair',\n",
       "       'street', 'postcode', 'shop', 'sport', 'cuisine', 'smoking',\n",
       "       'delivery', 'takeaway', 'drive_through', 'opening_hours',\n",
       "       'description', 'unit', 'street:type', 'outdoor_seating', 'entrance',\n",
       "       'social_facility', 'for', 'leisure', 'crossing', 'country',\n",
       "       'landmark', 'designation', 'atm', 'brand', 'car_wash', 'access',\n",
       "       'type', 'foot', 'bicycle', 'capacity', 'layer', 'information',\n",
       "       'aeroway', 'genus', 'species', 'motor_vehicle', 'internet_access',\n",
       "       'surveillance', 'disabled', 'user_defined', 'image', 'office',\n",
       "       'county', 'historic', 'housename', 'owner', 'food',\n",
       "       'traffic_calming', 'covered', 'kerb', 'tactile_paving', 'network',\n",
       "       'housenumber:unit', 'vehicle', 'note', 'diet', 'yelp', 'bitcoin',\n",
       "       'cocktails', 'fixme', 'craft', 'horse', 'motorcar', 'motorcycle',\n",
       "       'wikipedia', 'bench', 'junction', 'bicycle_parking', 'monument',\n",
       "       'building', 'crossing_ref', 'height', 'en', 'name_1',\n",
       "       'reference_point', 'street:prefix', 'repair', 'climbing', 'coffee',\n",
       "       'juice', 'vending', 'water', 'waterway', 'leaf_type', 'denotation',\n",
       "       'Suite', 'number', 'rooms'], dtype=object)"
      ]
     },
     "execution_count": 11,
     "metadata": {},
     "output_type": "execute_result"
    }
   ],
   "source": [
    "df.key.unique()"
   ]
  },
  {
   "cell_type": "code",
   "execution_count": 12,
   "metadata": {
    "collapsed": false
   },
   "outputs": [
    {
     "data": {
      "text/html": [
       "<div>\n",
       "<table border=\"1\" class=\"dataframe\">\n",
       "  <thead>\n",
       "    <tr style=\"text-align: right;\">\n",
       "      <th></th>\n",
       "      <th>id</th>\n",
       "      <th>key</th>\n",
       "      <th>value</th>\n",
       "      <th>type</th>\n",
       "    </tr>\n",
       "  </thead>\n",
       "  <tbody>\n",
       "    <tr>\n",
       "      <th>3752</th>\n",
       "      <td>2027452533</td>\n",
       "      <td>historic</td>\n",
       "      <td>memorial</td>\n",
       "      <td>regular</td>\n",
       "    </tr>\n",
       "    <tr>\n",
       "      <th>3797</th>\n",
       "      <td>2073955852</td>\n",
       "      <td>historic</td>\n",
       "      <td>memorial</td>\n",
       "      <td>regular</td>\n",
       "    </tr>\n",
       "    <tr>\n",
       "      <th>7952</th>\n",
       "      <td>3329380524</td>\n",
       "      <td>historic</td>\n",
       "      <td>memorial</td>\n",
       "      <td>regular</td>\n",
       "    </tr>\n",
       "  </tbody>\n",
       "</table>\n",
       "</div>"
      ],
      "text/plain": [
       "              id       key     value     type\n",
       "3752  2027452533  historic  memorial  regular\n",
       "3797  2073955852  historic  memorial  regular\n",
       "7952  3329380524  historic  memorial  regular"
      ]
     },
     "execution_count": 12,
     "metadata": {},
     "output_type": "execute_result"
    }
   ],
   "source": [
    "df[df.key == 'historic']"
   ]
  },
  {
   "cell_type": "code",
   "execution_count": 12,
   "metadata": {
    "collapsed": false
   },
   "outputs": [
    {
     "data": {
      "text/plain": [
       "regular            7249\n",
       "addr               5821\n",
       "gnis                176\n",
       "tiger                39\n",
       "fire_hydrant         29\n",
       "species              18\n",
       "capacity              6\n",
       "payment               2\n",
       "drink                 1\n",
       "social_facility       1\n",
       "census                1\n",
       "access                1\n",
       "name                  1\n",
       "Name: type, dtype: int64"
      ]
     },
     "execution_count": 12,
     "metadata": {},
     "output_type": "execute_result"
    }
   ],
   "source": [
    "df.type.value_counts()"
   ]
  },
  {
   "cell_type": "markdown",
   "metadata": {},
   "source": [
    "### ways_df"
   ]
  },
  {
   "cell_type": "code",
   "execution_count": 13,
   "metadata": {
    "collapsed": false
   },
   "outputs": [],
   "source": [
    "df = ways_df"
   ]
  },
  {
   "cell_type": "code",
   "execution_count": 14,
   "metadata": {
    "collapsed": false
   },
   "outputs": [
    {
     "data": {
      "text/plain": [
       "id           28842\n",
       "user         28842\n",
       "uid          28842\n",
       "version      28842\n",
       "changeset    28842\n",
       "timestamp    28842\n",
       "dtype: int64"
      ]
     },
     "execution_count": 14,
     "metadata": {},
     "output_type": "execute_result"
    }
   ],
   "source": [
    "# Are there null values?\n",
    "df.count()"
   ]
  },
  {
   "cell_type": "code",
   "execution_count": 15,
   "metadata": {
    "collapsed": false
   },
   "outputs": [
    {
     "name": "stdout",
     "output_type": "stream",
     "text": [
      "---- id ---\n",
      "\n",
      "237748009    1\n",
      "45617513     1\n",
      "219426381    1\n",
      "Name: id, dtype: int64\n",
      "---- user ---\n",
      "\n",
      "chadbunn         10702\n",
      "MannequinBaby     2667\n",
      "e*holtz           2519\n",
      "Name: user, dtype: int64\n",
      "---- uid ---\n",
      "\n",
      "1058653    10702\n",
      "2590582     2667\n",
      "2561166     2519\n",
      "Name: uid, dtype: int64\n",
      "---- version ---\n",
      "\n",
      "2    7237\n",
      "1    6623\n",
      "3    6205\n",
      "Name: version, dtype: int64\n",
      "---- changeset ---\n",
      "\n",
      "37573363    987\n",
      "49385449    707\n",
      "36628039    618\n",
      "Name: changeset, dtype: int64\n",
      "---- timestamp ---\n",
      "\n",
      "2013-01-30T00:48:37Z    23\n",
      "2013-01-17T20:18:00Z    20\n",
      "2014-12-09T20:18:16Z    19\n",
      "Name: timestamp, dtype: int64\n"
     ]
    }
   ],
   "source": [
    "# I want to see the top 3 values for each column to inspect if something weird is going on\n",
    "for c in df.columns:\n",
    "    print(\"---- %s ---\\n\" % c)\n",
    "    print(df[c].value_counts()[:3])"
   ]
  },
  {
   "cell_type": "markdown",
   "metadata": {},
   "source": [
    "### ways_tags_df"
   ]
  },
  {
   "cell_type": "code",
   "execution_count": 16,
   "metadata": {
    "collapsed": false
   },
   "outputs": [],
   "source": [
    "df = ways_tags_df"
   ]
  },
  {
   "cell_type": "code",
   "execution_count": 17,
   "metadata": {
    "collapsed": false
   },
   "outputs": [
    {
     "data": {
      "text/plain": [
       "id       109298\n",
       "key      109298\n",
       "value    109298\n",
       "type     109298\n",
       "dtype: int64"
      ]
     },
     "execution_count": 17,
     "metadata": {},
     "output_type": "execute_result"
    }
   ],
   "source": [
    "# Are there null values?\n",
    "df.count()"
   ]
  },
  {
   "cell_type": "code",
   "execution_count": 18,
   "metadata": {
    "collapsed": false
   },
   "outputs": [
    {
     "name": "stdout",
     "output_type": "stream",
     "text": [
      "---- id ---\n",
      "\n",
      "220540383    23\n",
      "320713667    23\n",
      "269102711    23\n",
      "Name: id, dtype: int64\n",
      "---- key ---\n",
      "\n",
      "building       21564\n",
      "street:name    16385\n",
      "full           16327\n",
      "Name: key, dtype: int64\n",
      "---- value ---\n",
      "\n",
      "yes       18681\n",
      "house      3654\n",
      "Street     1998\n",
      "Name: value, dtype: int64\n",
      "---- type ---\n",
      "\n",
      "addr       63187\n",
      "regular    37711\n",
      "tiger       5816\n",
      "Name: type, dtype: int64\n"
     ]
    }
   ],
   "source": [
    "# I want to see the top 3 values for each column to inspect if something weird is going on\n",
    "for c in df.columns:\n",
    "    print(\"---- %s ---\\n\" % c)\n",
    "    print(df[c].value_counts()[:3])"
   ]
  },
  {
   "cell_type": "markdown",
   "metadata": {},
   "source": [
    "The only city appears to be San Luis Obispo, which is what I wanted"
   ]
  },
  {
   "cell_type": "code",
   "execution_count": 19,
   "metadata": {
    "collapsed": false
   },
   "outputs": [
    {
     "data": {
      "text/html": [
       "<div>\n",
       "<table border=\"1\" class=\"dataframe\">\n",
       "  <thead>\n",
       "    <tr style=\"text-align: right;\">\n",
       "      <th></th>\n",
       "      <th>id</th>\n",
       "      <th>key</th>\n",
       "      <th>value</th>\n",
       "      <th>type</th>\n",
       "    </tr>\n",
       "  </thead>\n",
       "  <tbody>\n",
       "    <tr>\n",
       "      <th>6036</th>\n",
       "      <td>31274641</td>\n",
       "      <td>city</td>\n",
       "      <td>San Luis Obispo</td>\n",
       "      <td>addr</td>\n",
       "    </tr>\n",
       "    <tr>\n",
       "      <th>6047</th>\n",
       "      <td>31274718</td>\n",
       "      <td>city</td>\n",
       "      <td>San Luis Obispo</td>\n",
       "      <td>addr</td>\n",
       "    </tr>\n",
       "    <tr>\n",
       "      <th>6053</th>\n",
       "      <td>31274721</td>\n",
       "      <td>city</td>\n",
       "      <td>San Luis Obispo</td>\n",
       "      <td>addr</td>\n",
       "    </tr>\n",
       "    <tr>\n",
       "      <th>6059</th>\n",
       "      <td>31274732</td>\n",
       "      <td>city</td>\n",
       "      <td>San Luis Obispo</td>\n",
       "      <td>addr</td>\n",
       "    </tr>\n",
       "    <tr>\n",
       "      <th>6065</th>\n",
       "      <td>31560773</td>\n",
       "      <td>city</td>\n",
       "      <td>San Luis Obispo</td>\n",
       "      <td>addr</td>\n",
       "    </tr>\n",
       "    <tr>\n",
       "      <th>6138</th>\n",
       "      <td>35152829</td>\n",
       "      <td>city</td>\n",
       "      <td>San Luis Obispo</td>\n",
       "      <td>addr</td>\n",
       "    </tr>\n",
       "    <tr>\n",
       "      <th>6145</th>\n",
       "      <td>38899881</td>\n",
       "      <td>city</td>\n",
       "      <td>San Luis Obispo</td>\n",
       "      <td>addr</td>\n",
       "    </tr>\n",
       "    <tr>\n",
       "      <th>6151</th>\n",
       "      <td>38899882</td>\n",
       "      <td>city</td>\n",
       "      <td>San Luis Obispo</td>\n",
       "      <td>addr</td>\n",
       "    </tr>\n",
       "    <tr>\n",
       "      <th>6157</th>\n",
       "      <td>38899884</td>\n",
       "      <td>city</td>\n",
       "      <td>San Luis Obispo</td>\n",
       "      <td>addr</td>\n",
       "    </tr>\n",
       "    <tr>\n",
       "      <th>6163</th>\n",
       "      <td>38939878</td>\n",
       "      <td>city</td>\n",
       "      <td>San Luis Obispo</td>\n",
       "      <td>addr</td>\n",
       "    </tr>\n",
       "    <tr>\n",
       "      <th>6168</th>\n",
       "      <td>38939879</td>\n",
       "      <td>city</td>\n",
       "      <td>San Luis Obispo</td>\n",
       "      <td>addr</td>\n",
       "    </tr>\n",
       "    <tr>\n",
       "      <th>6177</th>\n",
       "      <td>38939881</td>\n",
       "      <td>city</td>\n",
       "      <td>San Luis Obispo</td>\n",
       "      <td>addr</td>\n",
       "    </tr>\n",
       "    <tr>\n",
       "      <th>6182</th>\n",
       "      <td>38939882</td>\n",
       "      <td>city</td>\n",
       "      <td>San Luis Obispo</td>\n",
       "      <td>addr</td>\n",
       "    </tr>\n",
       "    <tr>\n",
       "      <th>6187</th>\n",
       "      <td>38939883</td>\n",
       "      <td>city</td>\n",
       "      <td>San Luis Obispo</td>\n",
       "      <td>addr</td>\n",
       "    </tr>\n",
       "    <tr>\n",
       "      <th>6193</th>\n",
       "      <td>38939884</td>\n",
       "      <td>city</td>\n",
       "      <td>San Luis Obispo</td>\n",
       "      <td>addr</td>\n",
       "    </tr>\n",
       "    <tr>\n",
       "      <th>6199</th>\n",
       "      <td>38939886</td>\n",
       "      <td>city</td>\n",
       "      <td>San Luis Obispo</td>\n",
       "      <td>addr</td>\n",
       "    </tr>\n",
       "    <tr>\n",
       "      <th>6212</th>\n",
       "      <td>38939888</td>\n",
       "      <td>city</td>\n",
       "      <td>San Luis Obispo</td>\n",
       "      <td>addr</td>\n",
       "    </tr>\n",
       "    <tr>\n",
       "      <th>6224</th>\n",
       "      <td>42335852</td>\n",
       "      <td>city</td>\n",
       "      <td>San Luis Obispo</td>\n",
       "      <td>addr</td>\n",
       "    </tr>\n",
       "    <tr>\n",
       "      <th>6504</th>\n",
       "      <td>43738023</td>\n",
       "      <td>city</td>\n",
       "      <td>San Luis Obispo</td>\n",
       "      <td>addr</td>\n",
       "    </tr>\n",
       "    <tr>\n",
       "      <th>6509</th>\n",
       "      <td>43738040</td>\n",
       "      <td>city</td>\n",
       "      <td>San Luis Obispo</td>\n",
       "      <td>addr</td>\n",
       "    </tr>\n",
       "    <tr>\n",
       "      <th>6515</th>\n",
       "      <td>43738050</td>\n",
       "      <td>city</td>\n",
       "      <td>San Luis Obispo</td>\n",
       "      <td>addr</td>\n",
       "    </tr>\n",
       "    <tr>\n",
       "      <th>6520</th>\n",
       "      <td>43738057</td>\n",
       "      <td>city</td>\n",
       "      <td>San Luis Obispo</td>\n",
       "      <td>addr</td>\n",
       "    </tr>\n",
       "    <tr>\n",
       "      <th>6583</th>\n",
       "      <td>45594006</td>\n",
       "      <td>city</td>\n",
       "      <td>San Luis Obispo</td>\n",
       "      <td>addr</td>\n",
       "    </tr>\n",
       "    <tr>\n",
       "      <th>6864</th>\n",
       "      <td>45594081</td>\n",
       "      <td>city</td>\n",
       "      <td>San Luis Obispo</td>\n",
       "      <td>addr</td>\n",
       "    </tr>\n",
       "    <tr>\n",
       "      <th>7204</th>\n",
       "      <td>45594168</td>\n",
       "      <td>city</td>\n",
       "      <td>San Luis Obispo</td>\n",
       "      <td>addr</td>\n",
       "    </tr>\n",
       "    <tr>\n",
       "      <th>7213</th>\n",
       "      <td>45594169</td>\n",
       "      <td>city</td>\n",
       "      <td>San Luis Obispo</td>\n",
       "      <td>addr</td>\n",
       "    </tr>\n",
       "    <tr>\n",
       "      <th>7222</th>\n",
       "      <td>45594170</td>\n",
       "      <td>city</td>\n",
       "      <td>San Luis Obispo</td>\n",
       "      <td>addr</td>\n",
       "    </tr>\n",
       "    <tr>\n",
       "      <th>7231</th>\n",
       "      <td>45594171</td>\n",
       "      <td>city</td>\n",
       "      <td>San Luis Obispo</td>\n",
       "      <td>addr</td>\n",
       "    </tr>\n",
       "    <tr>\n",
       "      <th>7240</th>\n",
       "      <td>45594172</td>\n",
       "      <td>city</td>\n",
       "      <td>San Luis Obispo</td>\n",
       "      <td>addr</td>\n",
       "    </tr>\n",
       "    <tr>\n",
       "      <th>7255</th>\n",
       "      <td>45594175</td>\n",
       "      <td>city</td>\n",
       "      <td>San Luis Obispo</td>\n",
       "      <td>addr</td>\n",
       "    </tr>\n",
       "    <tr>\n",
       "      <th>...</th>\n",
       "      <td>...</td>\n",
       "      <td>...</td>\n",
       "      <td>...</td>\n",
       "      <td>...</td>\n",
       "    </tr>\n",
       "    <tr>\n",
       "      <th>105963</th>\n",
       "      <td>385174638</td>\n",
       "      <td>city</td>\n",
       "      <td>San Luis Obispo</td>\n",
       "      <td>addr</td>\n",
       "    </tr>\n",
       "    <tr>\n",
       "      <th>105986</th>\n",
       "      <td>385174645</td>\n",
       "      <td>city</td>\n",
       "      <td>San Luis Obispo</td>\n",
       "      <td>addr</td>\n",
       "    </tr>\n",
       "    <tr>\n",
       "      <th>105993</th>\n",
       "      <td>385174646</td>\n",
       "      <td>city</td>\n",
       "      <td>San Luis Obispo</td>\n",
       "      <td>addr</td>\n",
       "    </tr>\n",
       "    <tr>\n",
       "      <th>106044</th>\n",
       "      <td>385185670</td>\n",
       "      <td>city</td>\n",
       "      <td>San Luis Obispo</td>\n",
       "      <td>addr</td>\n",
       "    </tr>\n",
       "    <tr>\n",
       "      <th>106051</th>\n",
       "      <td>385185672</td>\n",
       "      <td>city</td>\n",
       "      <td>San Luis Obispo</td>\n",
       "      <td>addr</td>\n",
       "    </tr>\n",
       "    <tr>\n",
       "      <th>106059</th>\n",
       "      <td>385185674</td>\n",
       "      <td>city</td>\n",
       "      <td>San Luis Obispo</td>\n",
       "      <td>addr</td>\n",
       "    </tr>\n",
       "    <tr>\n",
       "      <th>106066</th>\n",
       "      <td>385185675</td>\n",
       "      <td>city</td>\n",
       "      <td>San Luis Obispo</td>\n",
       "      <td>addr</td>\n",
       "    </tr>\n",
       "    <tr>\n",
       "      <th>106073</th>\n",
       "      <td>385185676</td>\n",
       "      <td>city</td>\n",
       "      <td>San Luis Obispo</td>\n",
       "      <td>addr</td>\n",
       "    </tr>\n",
       "    <tr>\n",
       "      <th>106080</th>\n",
       "      <td>385185677</td>\n",
       "      <td>city</td>\n",
       "      <td>San Luis Obispo</td>\n",
       "      <td>addr</td>\n",
       "    </tr>\n",
       "    <tr>\n",
       "      <th>106087</th>\n",
       "      <td>385185678</td>\n",
       "      <td>city</td>\n",
       "      <td>San Luis Obispo</td>\n",
       "      <td>addr</td>\n",
       "    </tr>\n",
       "    <tr>\n",
       "      <th>106095</th>\n",
       "      <td>385185679</td>\n",
       "      <td>city</td>\n",
       "      <td>San Luis Obispo</td>\n",
       "      <td>addr</td>\n",
       "    </tr>\n",
       "    <tr>\n",
       "      <th>106102</th>\n",
       "      <td>385185680</td>\n",
       "      <td>city</td>\n",
       "      <td>San Luis Obispo</td>\n",
       "      <td>addr</td>\n",
       "    </tr>\n",
       "    <tr>\n",
       "      <th>106110</th>\n",
       "      <td>385185681</td>\n",
       "      <td>city</td>\n",
       "      <td>San Luis Obispo</td>\n",
       "      <td>addr</td>\n",
       "    </tr>\n",
       "    <tr>\n",
       "      <th>106118</th>\n",
       "      <td>385185682</td>\n",
       "      <td>city</td>\n",
       "      <td>San Luis Obispo</td>\n",
       "      <td>addr</td>\n",
       "    </tr>\n",
       "    <tr>\n",
       "      <th>106126</th>\n",
       "      <td>385185683</td>\n",
       "      <td>city</td>\n",
       "      <td>San Luis Obispo</td>\n",
       "      <td>addr</td>\n",
       "    </tr>\n",
       "    <tr>\n",
       "      <th>106134</th>\n",
       "      <td>385185684</td>\n",
       "      <td>city</td>\n",
       "      <td>San Luis Obispo</td>\n",
       "      <td>addr</td>\n",
       "    </tr>\n",
       "    <tr>\n",
       "      <th>106141</th>\n",
       "      <td>385185685</td>\n",
       "      <td>city</td>\n",
       "      <td>San Luis Obispo</td>\n",
       "      <td>addr</td>\n",
       "    </tr>\n",
       "    <tr>\n",
       "      <th>106148</th>\n",
       "      <td>385185686</td>\n",
       "      <td>city</td>\n",
       "      <td>San Luis Obispo</td>\n",
       "      <td>addr</td>\n",
       "    </tr>\n",
       "    <tr>\n",
       "      <th>106157</th>\n",
       "      <td>385185688</td>\n",
       "      <td>city</td>\n",
       "      <td>San Luis Obispo</td>\n",
       "      <td>addr</td>\n",
       "    </tr>\n",
       "    <tr>\n",
       "      <th>106165</th>\n",
       "      <td>385185693</td>\n",
       "      <td>city</td>\n",
       "      <td>San Luis Obispo</td>\n",
       "      <td>addr</td>\n",
       "    </tr>\n",
       "    <tr>\n",
       "      <th>106238</th>\n",
       "      <td>385490114</td>\n",
       "      <td>city</td>\n",
       "      <td>San Luis Obispo</td>\n",
       "      <td>addr</td>\n",
       "    </tr>\n",
       "    <tr>\n",
       "      <th>107055</th>\n",
       "      <td>392482159</td>\n",
       "      <td>city</td>\n",
       "      <td>San Luis Obispo</td>\n",
       "      <td>addr</td>\n",
       "    </tr>\n",
       "    <tr>\n",
       "      <th>107061</th>\n",
       "      <td>392482160</td>\n",
       "      <td>city</td>\n",
       "      <td>San Luis Obispo</td>\n",
       "      <td>addr</td>\n",
       "    </tr>\n",
       "    <tr>\n",
       "      <th>107435</th>\n",
       "      <td>415932525</td>\n",
       "      <td>city</td>\n",
       "      <td>San Luis Obispo</td>\n",
       "      <td>addr</td>\n",
       "    </tr>\n",
       "    <tr>\n",
       "      <th>107523</th>\n",
       "      <td>434109502</td>\n",
       "      <td>city</td>\n",
       "      <td>San Luis Obispo</td>\n",
       "      <td>addr</td>\n",
       "    </tr>\n",
       "    <tr>\n",
       "      <th>107540</th>\n",
       "      <td>434109520</td>\n",
       "      <td>city</td>\n",
       "      <td>San Luis Obispo</td>\n",
       "      <td>addr</td>\n",
       "    </tr>\n",
       "    <tr>\n",
       "      <th>107563</th>\n",
       "      <td>434109539</td>\n",
       "      <td>city</td>\n",
       "      <td>San Luis Obispo</td>\n",
       "      <td>addr</td>\n",
       "    </tr>\n",
       "    <tr>\n",
       "      <th>107589</th>\n",
       "      <td>434220744</td>\n",
       "      <td>city</td>\n",
       "      <td>San Luis Obispo</td>\n",
       "      <td>addr</td>\n",
       "    </tr>\n",
       "    <tr>\n",
       "      <th>107597</th>\n",
       "      <td>434220747</td>\n",
       "      <td>city</td>\n",
       "      <td>San Luis Obispo</td>\n",
       "      <td>addr</td>\n",
       "    </tr>\n",
       "    <tr>\n",
       "      <th>108899</th>\n",
       "      <td>489954896</td>\n",
       "      <td>city</td>\n",
       "      <td>San Luis Obispo</td>\n",
       "      <td>addr</td>\n",
       "    </tr>\n",
       "  </tbody>\n",
       "</table>\n",
       "<p>905 rows × 4 columns</p>\n",
       "</div>"
      ],
      "text/plain": [
       "               id   key            value  type\n",
       "6036     31274641  city  San Luis Obispo  addr\n",
       "6047     31274718  city  San Luis Obispo  addr\n",
       "6053     31274721  city  San Luis Obispo  addr\n",
       "6059     31274732  city  San Luis Obispo  addr\n",
       "6065     31560773  city  San Luis Obispo  addr\n",
       "6138     35152829  city  San Luis Obispo  addr\n",
       "6145     38899881  city  San Luis Obispo  addr\n",
       "6151     38899882  city  San Luis Obispo  addr\n",
       "6157     38899884  city  San Luis Obispo  addr\n",
       "6163     38939878  city  San Luis Obispo  addr\n",
       "6168     38939879  city  San Luis Obispo  addr\n",
       "6177     38939881  city  San Luis Obispo  addr\n",
       "6182     38939882  city  San Luis Obispo  addr\n",
       "6187     38939883  city  San Luis Obispo  addr\n",
       "6193     38939884  city  San Luis Obispo  addr\n",
       "6199     38939886  city  San Luis Obispo  addr\n",
       "6212     38939888  city  San Luis Obispo  addr\n",
       "6224     42335852  city  San Luis Obispo  addr\n",
       "6504     43738023  city  San Luis Obispo  addr\n",
       "6509     43738040  city  San Luis Obispo  addr\n",
       "6515     43738050  city  San Luis Obispo  addr\n",
       "6520     43738057  city  San Luis Obispo  addr\n",
       "6583     45594006  city  San Luis Obispo  addr\n",
       "6864     45594081  city  San Luis Obispo  addr\n",
       "7204     45594168  city  San Luis Obispo  addr\n",
       "7213     45594169  city  San Luis Obispo  addr\n",
       "7222     45594170  city  San Luis Obispo  addr\n",
       "7231     45594171  city  San Luis Obispo  addr\n",
       "7240     45594172  city  San Luis Obispo  addr\n",
       "7255     45594175  city  San Luis Obispo  addr\n",
       "...           ...   ...              ...   ...\n",
       "105963  385174638  city  San Luis Obispo  addr\n",
       "105986  385174645  city  San Luis Obispo  addr\n",
       "105993  385174646  city  San Luis Obispo  addr\n",
       "106044  385185670  city  San Luis Obispo  addr\n",
       "106051  385185672  city  San Luis Obispo  addr\n",
       "106059  385185674  city  San Luis Obispo  addr\n",
       "106066  385185675  city  San Luis Obispo  addr\n",
       "106073  385185676  city  San Luis Obispo  addr\n",
       "106080  385185677  city  San Luis Obispo  addr\n",
       "106087  385185678  city  San Luis Obispo  addr\n",
       "106095  385185679  city  San Luis Obispo  addr\n",
       "106102  385185680  city  San Luis Obispo  addr\n",
       "106110  385185681  city  San Luis Obispo  addr\n",
       "106118  385185682  city  San Luis Obispo  addr\n",
       "106126  385185683  city  San Luis Obispo  addr\n",
       "106134  385185684  city  San Luis Obispo  addr\n",
       "106141  385185685  city  San Luis Obispo  addr\n",
       "106148  385185686  city  San Luis Obispo  addr\n",
       "106157  385185688  city  San Luis Obispo  addr\n",
       "106165  385185693  city  San Luis Obispo  addr\n",
       "106238  385490114  city  San Luis Obispo  addr\n",
       "107055  392482159  city  San Luis Obispo  addr\n",
       "107061  392482160  city  San Luis Obispo  addr\n",
       "107435  415932525  city  San Luis Obispo  addr\n",
       "107523  434109502  city  San Luis Obispo  addr\n",
       "107540  434109520  city  San Luis Obispo  addr\n",
       "107563  434109539  city  San Luis Obispo  addr\n",
       "107589  434220744  city  San Luis Obispo  addr\n",
       "107597  434220747  city  San Luis Obispo  addr\n",
       "108899  489954896  city  San Luis Obispo  addr\n",
       "\n",
       "[905 rows x 4 columns]"
      ]
     },
     "execution_count": 19,
     "metadata": {},
     "output_type": "execute_result"
    }
   ],
   "source": [
    "df[df.key.apply(lambda s: 'city' in s)]"
   ]
  },
  {
   "cell_type": "code",
   "execution_count": 20,
   "metadata": {
    "collapsed": false
   },
   "outputs": [
    {
     "data": {
      "text/plain": [
       "array(['name', 'highway', 'cfcc', 'county', 'reviewed', 'name_base',\n",
       "       'name_type', 'access', 'service', 'oneway', 'bicycle',\n",
       "       'destination', 'power', 'cables', 'voltage', 'frequency', 'ref',\n",
       "       'railway', 'surface', 'foot', 'horse', 'lanes', 'junction',\n",
       "       'motor_vehicle', 'tracktype', 'name_direction_prefix_1', 'tlid',\n",
       "       'source', 'separated', 'upload_uuid', 'hgv', 'state_network',\n",
       "       'hgv:state_network', 'name_1', 'name_base_1', 'name_type_1',\n",
       "       'cycleway', 'name_direction_prefix', 'sidewalk', 'maxspeed', 'NHS',\n",
       "       'national_network', 'hgv:national_network', 'layer',\n",
       "       'name_direction_suffix', 'name_base_2', 'name_type_2', 'postcode',\n",
       "       'is_in', 'bus', 'old_ref', 'name_2', 'leisure', 'sport', 'city',\n",
       "       'street', 'building', 'levels', 'aeroway', 'amenity',\n",
       "       'university-function', 'ALAND', 'MTFCC', 'AREAID', 'AWATER',\n",
       "       'STATEFP', 'COUNTYFP', 'latitude', 'longitude', 'Tiger:MTFCC',\n",
       "       'website', 'ele', 'landuse', 'created', 'state_id', 'county_id',\n",
       "       'feature_id', 'full', 'housenumber', 'street:name', 'iata', 'icao',\n",
       "       'operator', 'street:type', 'height', 'cuisine', 'smoking',\n",
       "       'delivery', 'takeaway', 'wheelchair', 'internet_access',\n",
       "       'outdoor_seating', 'country', 'religion', 'denomination', 'shop',\n",
       "       'office', 'state', 'tourism', 'phone', 'brand', 'historic', 'unit',\n",
       "       'housenumber:unit', 'description', 'museum', 'wikipedia', 'atm',\n",
       "       'food', 'parking', 'opening_hours', 'drive_through', 'fee',\n",
       "       'street:prefix', 'housename', 'ownership', 'shape', 'colour',\n",
       "       'alt_name', 'comment', 'craft', 'organic', 'number', 'male',\n",
       "       'disabled', 'construction_date', 'man_made', 'emergency',\n",
       "       'designation', 'brewery', 'residential', 'park_ride', 'supervised',\n",
       "       'addr', 'bridge', 'fax', 'shooting', 'shoulder', 'trailer', 'owner',\n",
       "       'usage', 'natural', 'fdate', 'fcode', 'ftype', 'com_id',\n",
       "       'reach_code', 'water', 'intermittent', 'occurrence', 'id',\n",
       "       'wetland', 'waterway', 'tunnel', 'step_count', 'zip_right', 'lit',\n",
       "       'route', 'attribution', 'type', 'district', 'dynsegpm', 'area',\n",
       "       'drive_in', 'barrier', 'vehicle', 'postal_code', 'length',\n",
       "       'segregated', 'baseball', 'substation', 'electrified', 'hoops',\n",
       "       'note', 'female', 'FIXME:NHS', 'cutting', 'restriction',\n",
       "       'street:suffix', 'is', 'footway', 'fuel', 'covered', 'right',\n",
       "       'crossing', 'trees', 'lane', 'golf', 'mow', 'county_name',\n",
       "       'import_uuid', 'animal', 'width', 'motorcar', 'driveway', 'fixme',\n",
       "       'crop', 'FIXME', 'gauge', 'traffic_calming', 'indoor',\n",
       "       'social_facility', 'for', 'fence_type', 'level', 'boundary',\n",
       "       'end_date', 'wikidata', 'start_date', 'old_railway_operator',\n",
       "       'construction'], dtype=object)"
      ]
     },
     "execution_count": 20,
     "metadata": {},
     "output_type": "execute_result"
    }
   ],
   "source": [
    "df.key.unique()"
   ]
  },
  {
   "cell_type": "markdown",
   "metadata": {},
   "source": [
    "### ways_nodes_df"
   ]
  },
  {
   "cell_type": "code",
   "execution_count": 21,
   "metadata": {
    "collapsed": false
   },
   "outputs": [],
   "source": [
    "df = ways_nodes_df"
   ]
  },
  {
   "cell_type": "code",
   "execution_count": 22,
   "metadata": {
    "collapsed": false
   },
   "outputs": [
    {
     "data": {
      "text/plain": [
       "id          302167\n",
       "node_id     302167\n",
       "position    302167\n",
       "dtype: int64"
      ]
     },
     "execution_count": 22,
     "metadata": {},
     "output_type": "execute_result"
    }
   ],
   "source": [
    "# Are there null values?\n",
    "df.count()"
   ]
  },
  {
   "cell_type": "code",
   "execution_count": 23,
   "metadata": {
    "collapsed": false
   },
   "outputs": [
    {
     "name": "stdout",
     "output_type": "stream",
     "text": [
      "---- id ---\n",
      "\n",
      "261743335    1213\n",
      "261743336    1203\n",
      "261477414     960\n",
      "Name: id, dtype: int64\n",
      "---- node_id ---\n",
      "\n",
      "1470499954    8\n",
      "552907487     7\n",
      "3543853764    7\n",
      "Name: node_id, dtype: int64\n",
      "---- position ---\n",
      "\n",
      "0    28842\n",
      "1    28832\n",
      "2    27681\n",
      "Name: position, dtype: int64\n"
     ]
    }
   ],
   "source": [
    "# I want to see the top 3 values for each column to inspect if something weird is going on\n",
    "for c in df.columns:\n",
    "    print(\"---- %s ---\\n\" % c)\n",
    "    print(df[c].value_counts()[:3])"
   ]
  }
 ],
 "metadata": {
  "anaconda-cloud": {},
  "kernelspec": {
   "display_name": "Python [conda root]",
   "language": "python",
   "name": "conda-root-py"
  },
  "language_info": {
   "codemirror_mode": {
    "name": "ipython",
    "version": 3
   },
   "file_extension": ".py",
   "mimetype": "text/x-python",
   "name": "python",
   "nbconvert_exporter": "python",
   "pygments_lexer": "ipython3",
   "version": "3.5.2"
  }
 },
 "nbformat": 4,
 "nbformat_minor": 1
}
