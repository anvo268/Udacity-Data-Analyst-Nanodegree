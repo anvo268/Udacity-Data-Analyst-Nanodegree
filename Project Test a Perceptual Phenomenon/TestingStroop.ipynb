{
 "cells": [
  {
   "cell_type": "markdown",
   "metadata": {},
   "source": [
    "# Stroop Effect Investigation"
   ]
  },
  {
   "cell_type": "markdown",
   "metadata": {},
   "source": [
    "#### 1. \n",
    "**Independent Variable:** The task condition. Eg congruent words condition vs incongruent words condition. \n",
    "\n",
    "**Dependent Variable:** The time it takes to name the ink colors"
   ]
  },
  {
   "cell_type": "markdown",
   "metadata": {},
   "source": [
    "#### 2. \n",
    "In words, the null hypothesis would be that there is no effect on response time when incongruent vs congruent words on presented. The alternative hypothesis would be that incongruent words result in a slower response time. The notation for that would be:\n",
    "\n",
    "$H_0: \\mu_1 = \\mu_2$<br>\n",
    "$H_1: \\mu_1 < \\mu_2$\n",
    "\n",
    "where $\\mu_1$ and $\\mu_2$ are the response times for congruent and incongruent words respectively. \n",
    "\n",
    "The appropriate test would be a *dependent sample T-Test*. We need a *T-Test* as we do not know the population parameters so we will be estimating the standard error for the sampling distribution. Specifically we need a *dependent sample T-Test* as this experiment is a repeated-measures design. One assumption of our test is that the population is normally distributed as our sample size (n=24) is rather small. "
   ]
  },
  {
   "cell_type": "code",
   "execution_count": 2,
   "metadata": {
    "collapsed": false
   },
   "outputs": [],
   "source": [
    "library(ggplot2);\n",
    "\n",
    "data = read.csv('stroopdata.csv')"
   ]
  },
  {
   "cell_type": "markdown",
   "metadata": {},
   "source": [
    "#### 3. \n",
    "|    |Congruent|Incongruent|\n",
    "|----|---------|-----------|\n",
    "|mean|    14.05|      22.05|\n",
    "|std dev|  3.56|       4.80|"
   ]
  },
  {
   "cell_type": "markdown",
   "metadata": {},
   "source": [
    "#### 4."
   ]
  },
  {
   "cell_type": "code",
   "execution_count": 3,
   "metadata": {
    "collapsed": false
   },
   "outputs": [],
   "source": [
    "ResponseTime = c(data$Congruent, data$Incongruent)\n",
    "Condition = c(rep('Congruent', nrow(data)), rep('Incongruent', nrow(data)))\n",
    "my_data = as.data.frame(cbind(ResponseTime, Condition))\n",
    "my_data$ResponseTime = as.numeric(my_data$ResponseTime)"
   ]
  },
  {
   "cell_type": "code",
   "execution_count": 5,
   "metadata": {
    "collapsed": false
   },
   "outputs": [
    {
     "data": {},
     "metadata": {},
     "output_type": "display_data"
    },
    {
     "data": {
      "image/png": "[encoded data removed]",
      "text/plain": [
       "plot without title"
      ]
     },
     "metadata": {},
     "output_type": "display_data"
    }
   ],
   "source": [
    "ggplot(aes(x=Condition, y=ResponseTime), data=my_data) + geom_boxplot()"
   ]
  },
  {
   "cell_type": "markdown",
   "metadata": {},
   "source": [
    "It is apparent from the boxplot that the congruent group typically had faster response times than the incongruent groups. "
   ]
  },
  {
   "cell_type": "markdown",
   "metadata": {},
   "source": [
    "#### 5."
   ]
  },
  {
   "cell_type": "code",
   "execution_count": 13,
   "metadata": {
    "collapsed": false
   },
   "outputs": [
    {
     "data": {
      "text/plain": [
       "\n",
       "\tPaired t-test\n",
       "\n",
       "data:  data$Congruent and data$Incongruent\n",
       "t = -8.0207, df = 23, p-value = 2.052e-08\n",
       "alternative hypothesis: true difference in means is less than 0\n",
       "95 percent confidence interval:\n",
       "      -Inf -6.262868\n",
       "sample estimates:\n",
       "mean of the differences \n",
       "              -7.964792 \n"
      ]
     },
     "metadata": {},
     "output_type": "display_data"
    }
   ],
   "source": [
    "t.test(data$Congruent, data$Incongruent, paired=T, alternative='less')"
   ]
  },
  {
   "cell_type": "code",
   "execution_count": 10,
   "metadata": {
    "collapsed": false
   },
   "outputs": [
    {
     "data": {
      "text/html": [
       "-1.71387152774705"
      ],
      "text/latex": [
       "-1.71387152774705"
      ],
      "text/markdown": [
       "-1.71387152774705"
      ],
      "text/plain": [
       "[1] -1.713872"
      ]
     },
     "metadata": {},
     "output_type": "display_data"
    }
   ],
   "source": [
    "qt(.05, 23)"
   ]
  },
  {
   "cell_type": "markdown",
   "metadata": {},
   "source": [
    "**Confidence Level:** 95%<br>\n",
    "**t critical value:** -1.71\n",
    "\n",
    "We reject the null hypothesis and conclude that incongruent words result in a slower response time. \n",
    "\n",
    "I'm familiar with the Stroop Effect, so this is unsurprising to me. "
   ]
  },
  {
   "cell_type": "markdown",
   "metadata": {},
   "source": [
    "#### 6. \n",
    "I would guess the effect occurs because your brain has trouble reconciling its association with a word representing a color and an actual color different from the word. An alternative explanation might be that your brain makes associations with words more quickly than it makes associations with colors. One way to test this might might be to perform a similar test comparing response times to blotches of color and plain text words. "
   ]
  }
 ],
 "metadata": {
  "anaconda-cloud": {},
  "kernelspec": {
   "display_name": "R",
   "language": "R",
   "name": "ir"
  },
  "language_info": {
   "codemirror_mode": "r",
   "file_extension": ".r",
   "mimetype": "text/x-r-source",
   "name": "R",
   "pygments_lexer": "r",
   "version": "3.3.2"
  }
 },
 "nbformat": 4,
 "nbformat_minor": 1
}
